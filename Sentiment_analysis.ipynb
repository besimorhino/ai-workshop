{
  "nbformat": 4,
  "nbformat_minor": 0,
  "metadata": {
    "colab": {
      "provenance": [],
      "authorship_tag": "ABX9TyOmpEoCylzmQcBilfIKu+Ih",
      "include_colab_link": true
    },
    "kernelspec": {
      "name": "python3",
      "display_name": "Python 3"
    },
    "language_info": {
      "name": "python"
    }
  },
  "cells": [
    {
      "cell_type": "markdown",
      "metadata": {
        "id": "view-in-github",
        "colab_type": "text"
      },
      "source": [
        "<a href=\"https://colab.research.google.com/github/besimorhino/ai-workshop/blob/main/Sentiment_analysis.ipynb\" target=\"_parent\"><img src=\"https://colab.research.google.com/assets/colab-badge.svg\" alt=\"Open In Colab\"/></a>"
      ]
    },
    {
      "cell_type": "markdown",
      "source": [
        "If you get a message \"Requirement already satisfied:...\" you're fine.:"
      ],
      "metadata": {
        "id": "nS4psaeAiL0z"
      }
    },
    {
      "cell_type": "markdown",
      "source": [
        "# Step 0. Setup\n",
        "We need to install some python libraries to make our demo code work."
      ],
      "metadata": {
        "id": "yrU-QrGdZAVe"
      }
    },
    {
      "cell_type": "code",
      "execution_count": null,
      "metadata": {
        "id": "ABaAcswomtEp"
      },
      "outputs": [],
      "source": [
        "!pip install transformers[sentencepiece]\n",
        "!pip install sentencepiece"
      ]
    },
    {
      "cell_type": "markdown",
      "source": [
        "We then import the pipeline library from the library we just installed"
      ],
      "metadata": {
        "id": "Gtq0XxQUZKH9"
      }
    },
    {
      "cell_type": "code",
      "source": [
        "from transformers import pipeline"
      ],
      "metadata": {
        "id": "rTjlJ9zgm44i"
      },
      "execution_count": 3,
      "outputs": []
    },
    {
      "cell_type": "markdown",
      "source": [
        "\n",
        "# Step 1. Sentiment Analysis\n",
        "One of the better features of AI for OSINT professionals is now allowing sentiment analysis... is the text \"good\" or \"bad\"? This used to be increadibly time consuming.\n",
        "\n",
        "Note: Since we're not specifying a model, we'll get a few warnings about grabbing the default. This is perfectly OK."
      ],
      "metadata": {
        "id": "9jMwjKAgit5w"
      }
    },
    {
      "cell_type": "code",
      "source": [
        "classifier = pipeline(\"sentiment-analysis\")\n",
        "classifier([\n",
        "  \"I'm worried about AI taking our jobs.\",\n",
        "  \"I'm worried about how folks will blindly trust them!\",\n",
        "  \"Cheer up, it can't be that bad\",\n",
        "  \"Look, we are doing sentiment analysis easily!! Neat!!\"\n",
        "])"
      ],
      "metadata": {
        "id": "g3vt39DAm51v"
      },
      "execution_count": null,
      "outputs": []
    },
    {
      "cell_type": "markdown",
      "source": [
        "Warning:\n",
        "AI systems can easily be confused. Pay careful attention to the model you use. Some perform much better than others. You may need to experment with several to get results you're comfortable with."
      ],
      "metadata": {
        "id": "oZ1Z4q29Z7L8"
      }
    }
  ]
}