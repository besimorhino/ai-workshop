{
  "nbformat": 4,
  "nbformat_minor": 0,
  "metadata": {
    "colab": {
      "provenance": [],
      "authorship_tag": "ABX9TyPuCDF0KgZobXhCHbVO8gic",
      "include_colab_link": true
    },
    "kernelspec": {
      "name": "python3",
      "display_name": "Python 3"
    },
    "language_info": {
      "name": "python"
    }
  },
  "cells": [
    {
      "cell_type": "markdown",
      "metadata": {
        "id": "view-in-github",
        "colab_type": "text"
      },
      "source": [
        "<a href=\"https://colab.research.google.com/github/besimorhino/ai-workshop/blob/main/Tokens.ipynb\" target=\"_parent\"><img src=\"https://colab.research.google.com/assets/colab-badge.svg\" alt=\"Open In Colab\"/></a>"
      ]
    },
    {
      "cell_type": "markdown",
      "source": [
        "# Step 0. Setup\n",
        "\n",
        "We need to install some python libraries to make our demo code work."
      ],
      "metadata": {
        "id": "s3BjtNM9aS4u"
      }
    },
    {
      "cell_type": "code",
      "source": [
        "!pip install langchain langchain-community"
      ],
      "metadata": {
        "id": "U1Qp61T6Wq9S"
      },
      "execution_count": null,
      "outputs": []
    },
    {
      "cell_type": "markdown",
      "source": [
        "We now load the librarires needed to generate our tokens"
      ],
      "metadata": {
        "id": "_i4Ec2_KaYB3"
      }
    },
    {
      "cell_type": "code",
      "execution_count": null,
      "metadata": {
        "id": "Wlwl-v1sVaY6"
      },
      "outputs": [],
      "source": [
        "from transformers import AutoTokenizer\n",
        "\n",
        "checkpoint = \"distilbert-base-uncased-finetuned-sst-2-english\"\n",
        "tokenizer = AutoTokenizer.from_pretrained(checkpoint)"
      ]
    },
    {
      "cell_type": "markdown",
      "source": [
        "# Step 1. Tokenizing\n",
        "Tokenizing is a fancy term for slicing up something (in this case text) and representing it in another way. It is a foundational requirement for AI systems being able to understand human text. This area of computer science is more commonly called Natural Language Processing (NLP)"
      ],
      "metadata": {
        "id": "dCv8mf05aeCh"
      }
    },
    {
      "cell_type": "code",
      "source": [
        "raw_inputs = [\n",
        "    \"I've been wanting to know what tokens are all about...\",\n",
        "    \"Do they live up to the hype?\",\n",
        "]\n",
        "inputs = tokenizer(raw_inputs, padding=True, truncation=True, return_tensors=\"pt\")\n",
        "print(inputs)"
      ],
      "metadata": {
        "id": "VADe4IZ6VcAH"
      },
      "execution_count": null,
      "outputs": []
    },
    {
      "cell_type": "markdown",
      "source": [
        "Let's go for a much larger data set!"
      ],
      "metadata": {
        "id": "bprKdx1hWPaP"
      }
    },
    {
      "cell_type": "code",
      "source": [
        "# This downloads State of the Union speech data\n",
        "import os\n",
        "\n",
        "if os.path.exists(\"./data/state_of_the_union.txt\") == False:\n",
        "    !mkdir ./data\n",
        "    !wget -P ./data https://raw.githubusercontent.com/KxSystems/kdbai-samples/main/retrieval_augmented_generation/data/state_of_the_union.txt"
      ],
      "metadata": {
        "id": "hLJzTufuWTOO"
      },
      "execution_count": null,
      "outputs": []
    },
    {
      "cell_type": "code",
      "source": [
        "# Load the TextLoader function\n",
        "from langchain.document_loaders import TextLoader\n",
        "from langchain.text_splitter import RecursiveCharacterTextSplitter\n",
        "\n",
        "# Load the documents we want to prompt an LLM about\n",
        "doc = TextLoader(\"data/state_of_the_union.txt\").load()"
      ],
      "metadata": {
        "id": "jYtSzOEfWWBI"
      },
      "execution_count": 10,
      "outputs": []
    },
    {
      "cell_type": "code",
      "source": [
        "# Chunk the documents into 500 character chunks using langchain's text splitter \"RucursiveCharacterTextSplitter\"\n",
        "text_splitter = RecursiveCharacterTextSplitter(chunk_size=200, chunk_overlap=0)"
      ],
      "metadata": {
        "id": "CioPXjwTXO0b"
      },
      "execution_count": 12,
      "outputs": []
    },
    {
      "cell_type": "code",
      "source": [
        "# split_documents produces a list of all the chunks created, printing out first chunk for example\n",
        "pages = [p.page_content for p in text_splitter.split_documents(doc)]"
      ],
      "metadata": {
        "id": "KElCeEMuW5Ph"
      },
      "execution_count": 13,
      "outputs": []
    },
    {
      "cell_type": "markdown",
      "source": [
        "Show first page of State of Union speech"
      ],
      "metadata": {
        "id": "PnNe-t4jW7HT"
      }
    },
    {
      "cell_type": "code",
      "source": [
        "pages[0]"
      ],
      "metadata": {
        "id": "ujb-b-bYW52g"
      },
      "execution_count": null,
      "outputs": []
    }
  ]
}