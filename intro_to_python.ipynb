{
  "cells": [
    {
      "cell_type": "markdown",
      "metadata": {
        "id": "view-in-github",
        "colab_type": "text"
      },
      "source": [
        "<a href=\"https://colab.research.google.com/github/besimorhino/ai-workshop/blob/main/intro_to_python.ipynb\" target=\"_parent\"><img src=\"https://colab.research.google.com/assets/colab-badge.svg\" alt=\"Open In Colab\"/></a>"
      ]
    },
    {
      "cell_type": "markdown",
      "metadata": {
        "id": "bYv8U23JdwBS"
      },
      "source": [
        "# Introduction to Python in Jupyter Notebooks\n",
        "\n",
        "REMINDER: This is an optional workbook.\n",
        "\n",
        "This workbook is designed for **absolute beginners** who want to learn some basics which will help them use Python inside a Jupyter Notebook environment.\n",
        "We’ll go step-by-step through the essentials:\n",
        "- Printing output\n",
        "- Variables\n",
        "- Functions\n",
        "- Using `pip install` to add packages\n",
        "- Importing & using libraries\n",
        "- Basic control flow (if/else, loops)\n",
        "\n",
        "Run each cell (Shift+Enter) to execute it. Edit the code and try things out!"
      ],
      "id": "bYv8U23JdwBS"
    },
    {
      "cell_type": "markdown",
      "metadata": {
        "id": "3Rim-J8sdwBT"
      },
      "source": [
        "## 1. Printing Output\n",
        "The most basic command is `print()`. It shows text or values.\n"
      ],
      "id": "3Rim-J8sdwBT"
    },
    {
      "cell_type": "code",
      "execution_count": null,
      "metadata": {
        "id": "LNw6cJEHdwBT"
      },
      "outputs": [],
      "source": [
        "print(\"Hello, world!\")\n",
        "print(2 + 3)\n"
      ],
      "id": "LNw6cJEHdwBT"
    },
    {
      "cell_type": "markdown",
      "metadata": {
        "id": "yWu-K-U_dwBU"
      },
      "source": [
        "## 2. Variables\n",
        "Variables store data. Python infers the type automatically. You can use `print()` to see the value stored in a variable."
      ],
      "id": "yWu-K-U_dwBU"
    },
    {
      "cell_type": "code",
      "execution_count": null,
      "metadata": {
        "id": "VLX9aCjZdwBU"
      },
      "outputs": [],
      "source": [
        "x = 10\n",
        "name = \"Alice\"\n",
        "pi = 3.14159\n",
        "\n",
        "print(\"x =\", x)\n",
        "print(\"name =\", name)\n",
        "print(\"pi =\", pi)\n"
      ],
      "id": "VLX9aCjZdwBU"
    },
    {
      "cell_type": "markdown",
      "metadata": {
        "id": "RhdixKaddwBU"
      },
      "source": [
        "### Data Types\n",
        "Python has several built-in types:"
      ],
      "id": "RhdixKaddwBU"
    },
    {
      "cell_type": "code",
      "execution_count": null,
      "metadata": {
        "id": "e7Yz01PIdwBU"
      },
      "outputs": [],
      "source": [
        "print(type(42))      # int -- whole numbers without any decimal\n",
        "print(type(3.14))    # float -- numbers with a decimal\n",
        "print(type(\"hi\"))    # str -- string, it's just text.\n",
        "print(type(True))    # bool -- boolean, True or False.\n"
      ],
      "id": "e7Yz01PIdwBU"
    },
    {
      "cell_type": "markdown",
      "metadata": {
        "id": "E6GmRCzpdwBV"
      },
      "source": [
        "## Lists\n",
        "Lists are another data type that store multiple values in order."
      ],
      "id": "E6GmRCzpdwBV"
    },
    {
      "cell_type": "code",
      "execution_count": null,
      "metadata": {
        "id": "16oq0GwEdwBV"
      },
      "outputs": [],
      "source": [
        "fruits = [\"apple\", \"banana\", \"cherry\"]\n",
        "print(fruits)\n",
        "print(fruits[0])\n",
        "\n",
        "for f in fruits:\n",
        "    print(\"Fruit:\", f)\n"
      ],
      "id": "16oq0GwEdwBV"
    },
    {
      "cell_type": "markdown",
      "metadata": {
        "id": "rSDFrRO7dwBU"
      },
      "source": [
        "## 3. Installing Packages with pip\n",
        "Python has several ways to install libraries. If you're just getting started with Python, stick with `pip` for now. It's typically a bit easier to use than more advanced tools.\n",
        "\n",
        "In Jupyter, use `!pip install [LIBRARY NAME HERE]` to install external libraries."
      ],
      "id": "rSDFrRO7dwBU"
    },
    {
      "cell_type": "code",
      "execution_count": null,
      "metadata": {
        "id": "WffDdTKfdwBU"
      },
      "outputs": [],
      "source": [
        "!pip install requests\n"
      ],
      "id": "WffDdTKfdwBU"
    },
    {
      "cell_type": "markdown",
      "metadata": {
        "id": "zkFa-7SRdwBV"
      },
      "source": [
        "## 4. Importing & Using Libraries\n",
        "After installing a library, to be able to use it, you must import the library with the `import [LIBRARY NAME HERE]` command."
      ],
      "id": "zkFa-7SRdwBV"
    },
    {
      "cell_type": "code",
      "execution_count": null,
      "metadata": {
        "id": "JAP0-X2mdwBV"
      },
      "outputs": [],
      "source": [
        "import requests\n",
        "\n",
        "resp = requests.get(\"https://api.github.com\")\n",
        "print(\"Status code:\", resp.status_code)\n"
      ],
      "id": "JAP0-X2mdwBV"
    },
    {
      "cell_type": "markdown",
      "metadata": {
        "id": "-XcKWHCWdwBV"
      },
      "source": [
        "## 5. Functions\n",
        "When coding, you will find there are tasks you want to repeat multiple times. Rather than writing the code out each time, you can make a reusable block of code called a function. These functions should make your code easier to write and maintain."
      ],
      "id": "-XcKWHCWdwBV"
    },
    {
      "cell_type": "code",
      "execution_count": null,
      "metadata": {
        "id": "asZ4kjySdwBV"
      },
      "outputs": [],
      "source": [
        "def greet(name):\n",
        "    return f\"Hello, {name}!\"\n",
        "\n",
        "print(greet(\"Alice\"))\n",
        "print(greet(\"Bob\"))\n"
      ],
      "id": "asZ4kjySdwBV"
    },
    {
      "cell_type": "markdown",
      "metadata": {
        "id": "_W73XEeIdwBV"
      },
      "source": [
        "## 6. Control Flow: if/else\n",
        "Decide things based on conditions."
      ],
      "id": "_W73XEeIdwBV"
    },
    {
      "cell_type": "code",
      "execution_count": null,
      "metadata": {
        "id": "lN-zFq4IdwBV"
      },
      "outputs": [],
      "source": [
        "n = 7\n",
        "if n % 2 == 0:\n",
        "    print(\"Even\")\n",
        "else:\n",
        "    print(\"Odd\")\n"
      ],
      "id": "lN-zFq4IdwBV"
    },
    {
      "cell_type": "markdown",
      "metadata": {
        "id": "e74g1-ubdwBV"
      },
      "source": [
        "## 7. Loops\n",
        "Repeat actions with `for` or `while`."
      ],
      "id": "e74g1-ubdwBV"
    },
    {
      "cell_type": "code",
      "execution_count": null,
      "metadata": {
        "id": "d3Ufxxq8dwBV"
      },
      "outputs": [],
      "source": [
        "for i in range(5):\n",
        "    print(\"i =\", i)\n",
        "\n",
        "count = 0\n",
        "while count < 3:\n",
        "    print(\"count =\", count)\n",
        "    count += 1\n"
      ],
      "id": "d3Ufxxq8dwBV"
    },
    {
      "cell_type": "markdown",
      "metadata": {
        "id": "NTqQByqjdwBV"
      },
      "source": [
        "## Practice Exercises\n",
        "1. Print your name 3 times.\n",
        "2. Create a variable `age` and print whether it's greater than 18.\n",
        "3. Write a function `square(x)` that returns the square of a number.\n",
        "4. Use a loop to print numbers from 1 to 10.\n"
      ],
      "id": "NTqQByqjdwBV"
    },
    {
      "cell_type": "code",
      "source": [
        "# Practice Excersise 1\n",
        "# Print your name 3 times\n",
        "\n",
        "# If you need reminders, click these links to jump back to the prior cells where we cover this info:\n",
        "\n",
        "# How to print\n",
        "# https://colab.research.google.com/drive/1L5pb09Fdq6D0BztlHHguDT3wD5SoKDnC#scrollTo=LNw6cJEHdwBT&line=1&uniqifier=1\n",
        "\n",
        "# How to do something multiple times\n",
        "# https://colab.research.google.com/drive/1L5pb09Fdq6D0BztlHHguDT3wD5SoKDnC#scrollTo=d3Ufxxq8dwBV&line=2&uniqifier=1\n",
        "\n"
      ],
      "metadata": {
        "id": "xq53HFgUgH0R"
      },
      "id": "xq53HFgUgH0R",
      "execution_count": null,
      "outputs": []
    },
    {
      "cell_type": "code",
      "source": [
        "# Practice Excersise 2\n",
        "# Create a variable named age and print when it's greater than 18.\n",
        "\n",
        "# If you need reminders, click these links to jump back to the prior cells where we cover this info:\n",
        "\n",
        "# How to print:\n",
        "# https://colab.research.google.com/drive/1L5pb09Fdq6D0BztlHHguDT3wD5SoKDnC#scrollTo=LNw6cJEHdwBT&line=3&uniqifier=1\n",
        "\n",
        "# How to test a variable condition\n",
        "# https://colab.research.google.com/drive/1L5pb09Fdq6D0BztlHHguDT3wD5SoKDnC#scrollTo=lN-zFq4IdwBV&line=2&uniqifier=1\n",
        "\n"
      ],
      "metadata": {
        "id": "03g1GzE-gLK2"
      },
      "id": "03g1GzE-gLK2",
      "execution_count": null,
      "outputs": []
    },
    {
      "cell_type": "code",
      "source": [
        "# Practice Excersise 3\n",
        "# Write a function `square(x)` that returns the square of a number.\n",
        "\n",
        "# If you need reminders, click these links to jump back to the prior cells where we cover this info:\n",
        "\n",
        "# How to make functions\n",
        "# https://colab.research.google.com/drive/1L5pb09Fdq6D0BztlHHguDT3wD5SoKDnC#scrollTo=asZ4kjySdwBV&line=2&uniqifier=1\n"
      ],
      "metadata": {
        "id": "mvEHYmo5gN23"
      },
      "id": "mvEHYmo5gN23",
      "execution_count": null,
      "outputs": []
    },
    {
      "cell_type": "code",
      "source": [
        "# Practice Excersise 4\n",
        "# Use a loop to print numbers from 1 to 10.\n",
        "\n",
        "# If you need reminders, click these links to jump back to the prior cells where we cover this info:\n",
        "\n",
        "# how to loop\n",
        "# https://colab.research.google.com/drive/1L5pb09Fdq6D0BztlHHguDT3wD5SoKDnC#scrollTo=d3Ufxxq8dwBV&line=2&uniqifier=1"
      ],
      "metadata": {
        "id": "eRyOQUIugQWe"
      },
      "id": "eRyOQUIugQWe",
      "execution_count": null,
      "outputs": []
    },
    {
      "cell_type": "code",
      "source": [],
      "metadata": {
        "id": "ZLTx8Teth2vK"
      },
      "id": "ZLTx8Teth2vK",
      "execution_count": null,
      "outputs": []
    }
  ],
  "metadata": {
    "kernelspec": {
      "display_name": "Python 3",
      "language": "python",
      "name": "python3"
    },
    "language_info": {
      "name": "python",
      "version": "3.11.8"
    },
    "colab": {
      "provenance": [],
      "include_colab_link": true
    }
  },
  "nbformat": 4,
  "nbformat_minor": 5
}