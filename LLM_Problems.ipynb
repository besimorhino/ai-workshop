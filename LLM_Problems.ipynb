{
  "nbformat": 4,
  "nbformat_minor": 0,
  "metadata": {
    "colab": {
      "provenance": [],
      "authorship_tag": "ABX9TyPz2f0xtP/OeStJfo2Rq/Tt",
      "include_colab_link": true
    },
    "kernelspec": {
      "name": "python3",
      "display_name": "Python 3"
    },
    "language_info": {
      "name": "python"
    }
  },
  "cells": [
    {
      "cell_type": "markdown",
      "metadata": {
        "id": "view-in-github",
        "colab_type": "text"
      },
      "source": [
        "<a href=\"https://colab.research.google.com/github/besimorhino/ai-workshop/blob/main/LLM_Problems.ipynb\" target=\"_parent\"><img src=\"https://colab.research.google.com/assets/colab-badge.svg\" alt=\"Open In Colab\"/></a>"
      ]
    },
    {
      "cell_type": "markdown",
      "source": [
        "Warning: This section of the lab is _meant_ to show biases... which are predjudices.\n",
        "\n",
        "These do not reflect the opinions of the lab's author."
      ],
      "metadata": {
        "id": "PUTWwIWtpCU1"
      }
    },
    {
      "cell_type": "markdown",
      "source": [
        "# Step 0. Setup"
      ],
      "metadata": {
        "id": "Uqz4hG3ed4SJ"
      }
    },
    {
      "cell_type": "code",
      "source": [
        "from transformers import pipeline"
      ],
      "metadata": {
        "id": "Kr4G48oRolx8"
      },
      "execution_count": 1,
      "outputs": []
    },
    {
      "cell_type": "code",
      "execution_count": null,
      "metadata": {
        "id": "tPPf9OGQoiX7"
      },
      "outputs": [],
      "source": [
        "unmasker = pipeline(\"fill-mask\", model=\"bert-base-uncased\")"
      ]
    },
    {
      "cell_type": "markdown",
      "source": [
        "# Step 1. Illustrating Biases\n",
        "\n",
        "Biases are a major problem in OSINT investigations. Since AIs are trained on data created by real people, the biases will be represented in the model."
      ],
      "metadata": {
        "id": "7XylCffQd-Zb"
      }
    },
    {
      "cell_type": "code",
      "source": [
        "result = unmasker(\"This man works as a [MASK].\")\n",
        "print([r[\"token_str\"] for r in result])"
      ],
      "metadata": {
        "id": "ddghbU8Zop-N"
      },
      "execution_count": null,
      "outputs": []
    },
    {
      "cell_type": "code",
      "source": [
        "result = unmasker(\"This woman works as a [MASK].\")\n",
        "print([r[\"token_str\"] for r in result])"
      ],
      "metadata": {
        "id": "FTE4Xfyror5L"
      },
      "execution_count": null,
      "outputs": []
    },
    {
      "cell_type": "markdown",
      "source": [
        "I strongly recommend anyone working with an AI get a book called \"The Alignment Problem\"\n",
        "\n",
        "You can get it here:\n",
        "https://www.amazon.com/The-Alignment-Problem/dp/1786494337\n",
        "\n",
        "Note: The author gets no repayment from this recommendation"
      ],
      "metadata": {
        "id": "-NWo6IfMeMvr"
      }
    }
  ]
}