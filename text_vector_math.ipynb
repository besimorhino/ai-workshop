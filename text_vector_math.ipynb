{
  "cells": [
    {
      "cell_type": "markdown",
      "metadata": {
        "id": "view-in-github",
        "colab_type": "text"
      },
      "source": [
        "<a href=\"https://colab.research.google.com/github/besimorhino/ai-workshop/blob/main/text_vector_math.ipynb\" target=\"_parent\"><img src=\"https://colab.research.google.com/assets/colab-badge.svg\" alt=\"Open In Colab\"/></a>"
      ]
    },
    {
      "cell_type": "markdown",
      "id": "eaecf931",
      "metadata": {
        "id": "eaecf931"
      },
      "source": [
        "# Vector Math on Text Embeddings (No Kings Involved - LOL)"
      ]
    },
    {
      "cell_type": "code",
      "execution_count": null,
      "id": "466a6f60",
      "metadata": {
        "id": "466a6f60"
      },
      "outputs": [],
      "source": [
        "!pip install -q sentence-transformers"
      ]
    },
    {
      "cell_type": "code",
      "execution_count": null,
      "id": "054eb1cc",
      "metadata": {
        "id": "054eb1cc"
      },
      "outputs": [],
      "source": [
        "from sentence_transformers import SentenceTransformer, util\n",
        "import numpy as np"
      ]
    },
    {
      "cell_type": "code",
      "execution_count": null,
      "id": "deb638c9",
      "metadata": {
        "id": "deb638c9"
      },
      "outputs": [],
      "source": [
        "# Load model\n",
        "model = SentenceTransformer('all-MiniLM-L6-v2')"
      ]
    },
    {
      "cell_type": "code",
      "execution_count": 10,
      "id": "ef81d096",
      "metadata": {
        "id": "ef81d096"
      },
      "outputs": [],
      "source": [
        "# Define a set of sentences\n",
        "phrases = {\n",
        "    'USC Trojans': 'University of Southern California',\n",
        "    'Los Angeles': 'Los Angeles, California',\n",
        "    'Oregon Ducks': 'University of Oregon',\n",
        "    'Eugene': 'Eugene, Oregon',\n",
        "}\n",
        "\n",
        "# Encode them into vectors\n",
        "embeddings = {k: model.encode(v) for k, v in phrases.items()}"
      ]
    },
    {
      "cell_type": "code",
      "source": [
        "embeddings"
      ],
      "metadata": {
        "id": "_ioQATp61YZh"
      },
      "id": "_ioQATp61YZh",
      "execution_count": null,
      "outputs": []
    },
    {
      "cell_type": "code",
      "execution_count": 11,
      "id": "072ae6ae",
      "metadata": {
        "id": "072ae6ae"
      },
      "outputs": [],
      "source": [
        "# Perform vector math\n",
        "# USC Trojans - Los Angeles + Eugene ≈ Oregon Ducks?\n",
        "result_vector = embeddings['USC Trojans'] - embeddings['Los Angeles'] + embeddings['Eugene']"
      ]
    },
    {
      "cell_type": "code",
      "source": [
        "result_vector"
      ],
      "metadata": {
        "id": "-8ny-3nUHQcU"
      },
      "id": "-8ny-3nUHQcU",
      "execution_count": null,
      "outputs": []
    },
    {
      "cell_type": "code",
      "execution_count": 12,
      "id": "819f78d4",
      "metadata": {
        "id": "819f78d4"
      },
      "outputs": [],
      "source": [
        "# Search over a small corpus to find the best match\n",
        "corpus = [\n",
        "    \"University of Washington\",\n",
        "    \"Seattle, Washington\",\n",
        "    \"Stanford University\",\n",
        "    \"Palo Alto, California\",\n",
        "    \"University of California, Berkeley\",\n",
        "    \"Berkeley, California\",\n",
        "    \"Oregon Ducks\", # Include the expected result in the corpus\n",
        "    \"University of Oregon\", # Include the expected result in the corpus\n",
        "    \"Eugene, Oregon\" # Include the expected result in the corpus\n",
        "]\n",
        "corpus_embeddings = model.encode(corpus)"
      ]
    },
    {
      "cell_type": "code",
      "execution_count": 13,
      "id": "3bc4468e",
      "metadata": {
        "colab": {
          "base_uri": "https://localhost:8080/"
        },
        "id": "3bc4468e",
        "outputId": "8dc47959-4fbc-4e2b-9f73-24438e0ac751"
      },
      "outputs": [
        {
          "output_type": "stream",
          "name": "stdout",
          "text": [
            "Query: USC Trojans - Los Angeles + Eugene\n",
            "\n",
            "Top matching results:\n",
            "University of Oregon (score: 0.7655)\n",
            "Eugene, Oregon (score: 0.6564)\n",
            "Stanford University (score: 0.5306)\n",
            "University of Washington (score: 0.4744)\n",
            "University of California, Berkeley (score: 0.4595)\n"
          ]
        }
      ],
      "source": [
        "# Compute cosine similarities\n",
        "scores = util.cos_sim(result_vector, corpus_embeddings)[0]\n",
        "sorted_indices = np.argsort(-scores)\n",
        "\n",
        "print(\"Query: USC Trojans - Los Angeles + Eugene\")\n",
        "print(\"\\nTop matching results:\")\n",
        "for idx in sorted_indices[:5]:\n",
        "    print(f\"{corpus[idx]} (score: {scores[idx]:.4f})\")"
      ]
    }
  ],
  "metadata": {
    "colab": {
      "provenance": [],
      "include_colab_link": true
    },
    "language_info": {
      "name": "python"
    },
    "kernelspec": {
      "name": "python3",
      "display_name": "Python 3"
    }
  },
  "nbformat": 4,
  "nbformat_minor": 5
}