{
  "nbformat": 4,
  "nbformat_minor": 0,
  "metadata": {
    "colab": {
      "provenance": [],
      "include_colab_link": true
    },
    "kernelspec": {
      "name": "python3",
      "display_name": "Python 3"
    },
    "language_info": {
      "name": "python"
    }
  },
  "cells": [
    {
      "cell_type": "markdown",
      "metadata": {
        "id": "view-in-github",
        "colab_type": "text"
      },
      "source": [
        "<a href=\"https://colab.research.google.com/github/besimorhino/ai-workshop/blob/main/Intro_to_Jupyter.ipynb\" target=\"_parent\"><img src=\"https://colab.research.google.com/assets/colab-badge.svg\" alt=\"Open In Colab\"/></a>"
      ]
    },
    {
      "cell_type": "markdown",
      "source": [
        "# Lab 1. Introduction to JupyterLab\n",
        "## Lab Introduction:\n",
        "In this lab, we'll get familiar with JupyterLab running on Google's Colab Engine.\n",
        "\n",
        "If you've never coded in python before, it's a great tool for experimenting with code and testing some ideas out.\n",
        "\n",
        "## Goals of this lab:\n",
        "You will learn how JupyterLab works\n",
        "- use code cells\n",
        "- use text cells\n",
        "\n",
        "\n"
      ],
      "metadata": {
        "id": "S9bCIIomucyh"
      }
    },
    {
      "cell_type": "markdown",
      "source": [
        "## Task 1: Running our first code cell\n",
        "The code below is in what's called a *code cell*.\n",
        "\n",
        "You can run the code below by moving your mouse into the cell below. A play button should appear just to the left of the code.\n",
        "\n",
        "Task: move your mouse into the cell and press the play button now."
      ],
      "metadata": {
        "id": "De4Y4ueQvZNn"
      }
    },
    {
      "cell_type": "code",
      "source": [
        "print(\"Hello, World!\")"
      ],
      "metadata": {
        "id": "2IjwUzjRvPXU"
      },
      "execution_count": null,
      "outputs": []
    },
    {
      "cell_type": "markdown",
      "source": [
        "If all went well, you got a message that said \"Hello, World!\"\n",
        "\n",
        "If we're honest, that's not that impressive... yet. We will get there though!\n",
        "\n",
        "One of the neatest parts of Jupyter is you can easily modify code to experiment.\n",
        "\n",
        "Rather than getting `Hello World!` again (boring), you can change `World` to your name.\n",
        "\n",
        "Task: Click into the cell below, and change `World` to your name."
      ],
      "metadata": {
        "id": "1kvpGcsavuL4"
      }
    },
    {
      "cell_type": "code",
      "source": [
        "print(\"Hello, World!\")"
      ],
      "metadata": {
        "id": "HA68oQLHwoAC"
      },
      "execution_count": null,
      "outputs": []
    },
    {
      "cell_type": "markdown",
      "source": [
        "## Adding python packages using `pip`\n",
        "You can greatly extend the capabilities of a notebook by using any one of the thousands of python libraries.\n",
        "\n",
        "In the code below, we'll add plotting capabilies."
      ],
      "metadata": {
        "id": "8_pJGFT9h0m4"
      }
    },
    {
      "cell_type": "code",
      "execution_count": null,
      "metadata": {
        "id": "WlkD_0Ukf4Lb"
      },
      "outputs": [],
      "source": [
        "!pip install numpy pandas matplotlib"
      ]
    },
    {
      "cell_type": "markdown",
      "source": [
        "We now import the library we just installed"
      ],
      "metadata": {
        "id": "7ghiEvoUiJ5w"
      }
    },
    {
      "cell_type": "code",
      "source": [
        "import numpy as np"
      ],
      "metadata": {
        "id": "HNQsD7NriI6W"
      },
      "execution_count": null,
      "outputs": []
    },
    {
      "cell_type": "markdown",
      "source": [
        "Let's put in some fake data and prove it's there"
      ],
      "metadata": {
        "id": "jT69R9f8iPe2"
      }
    },
    {
      "cell_type": "code",
      "source": [
        "# Create an array\n",
        "arr = np.array([1,2,3,4,5])\n",
        "\n",
        "# Print the array\n",
        "print(arr)"
      ],
      "metadata": {
        "id": "jSB_UrRTiOXR"
      },
      "execution_count": null,
      "outputs": []
    },
    {
      "cell_type": "markdown",
      "source": [
        "Lastly, let's generate a plot"
      ],
      "metadata": {
        "id": "tIpSsqMViTFL"
      }
    },
    {
      "cell_type": "code",
      "source": [
        "# Let's create a plot\n",
        "\n",
        "import matplotlib.pyplot as plt\n",
        "\n",
        "plt.plot(arr)\n",
        "plt.xlabel('index')\n",
        "plt.ylabel('value')\n",
        "plt.title('Simple Plot')\n",
        "plt.show()"
      ],
      "metadata": {
        "id": "tpAg577NiV9a"
      },
      "execution_count": null,
      "outputs": []
    }
  ]
}