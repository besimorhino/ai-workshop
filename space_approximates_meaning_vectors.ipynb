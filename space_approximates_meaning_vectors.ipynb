{
 "cells": [
  {
   "cell_type": "markdown",
   "id": "38ca7eee",
   "metadata": {},
   "source": [
    "\n",
    "# Space Approximates Meaning: A Tiny Vector Demo (Colab)\n",
    "\n",
    "This lab demonstrates the idea that **nearby points in a vector space capture related meaning**.\n",
    "We'll work with three animals:\n",
    "\n",
    "- **Bearded dragon (lizard)**\n",
    "- **American Longhair (cat)**\n",
    "- **German shepherd (dog)**\n",
    "\n",
    "We'll map each animal to a simple, human-designed vector with three dimensions:\n",
    "\n",
    "1. **Furriness** (0–10 scale)  \n",
    "2. **Weight** (kg)  \n",
    "3. **Shoulder height** (m)  \n",
    "\n",
    "> **Note:** Values here are *illustrative approximations* for the sake of learning—good enough to see geometry convey meaning. In a real ML system, vectors would be learned (e.g., via embeddings) rather than hand‑crafted.\n"
   ]
  },
  {
   "cell_type": "code",
   "execution_count": null,
   "id": "e8b3fe02",
   "metadata": {},
   "outputs": [],
   "source": [
    "\n",
    "#@title Setup\n",
    "import numpy as np\n",
    "import pandas as pd\n",
    "import matplotlib.pyplot as plt\n",
    "\n",
    "# Display options\n",
    "pd.set_option(\"display.precision\", 3)\n",
    "pd.set_option(\"display.max_colwidth\", 100)\n",
    "\n",
    "# Define our small \"semantic\" dataset\n",
    "animals = [\n",
    "    \"Bearded dragon\",\n",
    "    \"American Longhair (cat)\",\n",
    "    \"German shepherd (dog)\",\n",
    "]\n",
    "\n",
    "# Hand-crafted feature values (illustrative)\n",
    "# Furriness: 0-10 (higher = furrier)\n",
    "# Weight: kg (typical adult range midpoint-ish)\n",
    "# Shoulder height: meters (approx. at the withers / comparable measure)\n",
    "data = {\n",
    "    \"animal\": animals,\n",
    "    \"furriness\": [0.5, 9.0, 7.5],\n",
    "    \"weight_kg\": [0.5, 4.5, 32.0],\n",
    "    \"shoulder_height_m\": [0.10, 0.25, 0.63],\n",
    "}\n",
    "\n",
    "df = pd.DataFrame(data).set_index(\"animal\")\n",
    "df\n"
   ]
  },
  {
   "cell_type": "markdown",
   "id": "e933e986",
   "metadata": {},
   "source": [
    "## Visualizing one dimension at a time"
   ]
  },
  {
   "cell_type": "code",
   "execution_count": null,
   "id": "3e1b174a",
   "metadata": {},
   "outputs": [],
   "source": [
    "\n",
    "# Furriness\n",
    "ax = df[\"furriness\"].plot(kind=\"bar\", rot=15, figsize=(6,4), title=\"Furriness (0–10)\")\n",
    "ax.set_ylabel(\"Furriness (0–10)\")\n",
    "plt.tight_layout()\n",
    "plt.show()\n"
   ]
  },
  {
   "cell_type": "code",
   "execution_count": null,
   "id": "df226b4b",
   "metadata": {},
   "outputs": [],
   "source": [
    "\n",
    "# Weight\n",
    "ax = df[\"weight_kg\"].plot(kind=\"bar\", rot=15, figsize=(6,4), title=\"Weight (kg)\")\n",
    "ax.set_ylabel(\"kg\")\n",
    "plt.tight_layout()\n",
    "plt.show()\n"
   ]
  },
  {
   "cell_type": "code",
   "execution_count": null,
   "id": "e0c27e4a",
   "metadata": {},
   "outputs": [],
   "source": [
    "\n",
    "# Shoulder height\n",
    "ax = df[\"shoulder_height_m\"].plot(kind=\"bar\", rot=15, figsize=(6,4), title=\"Shoulder Height (m)\")\n",
    "ax.set_ylabel(\"meters\")\n",
    "plt.tight_layout()\n",
    "plt.show()\n"
   ]
  },
  {
   "cell_type": "markdown",
   "id": "2ea7f969",
   "metadata": {},
   "source": [
    "\n",
    "## From features to vectors\n",
    "\n",
    "Combine the three features into a 3D vector for each animal. We'll also create a **normalized** version where each feature is scaled to `[0, 1]`, ensuring no single unit dominates distance just because of its raw scale (e.g., kilograms vs meters).\n"
   ]
  },
  {
   "cell_type": "code",
   "execution_count": null,
   "id": "784c2376",
   "metadata": {},
   "outputs": [],
   "source": [
    "\n",
    "# Assemble raw vectors\n",
    "X_raw = df[[\"furriness\", \"weight_kg\", \"shoulder_height_m\"]].values\n",
    "\n",
    "# Min-max normalize each column to [0, 1]\n",
    "mins = X_raw.min(axis=0)\n",
    "maxs = X_raw.max(axis=0)\n",
    "ranges = np.where((maxs - mins) == 0, 1.0, (maxs - mins))\n",
    "X_norm = (X_raw - mins) / ranges\n",
    "\n",
    "# Put both into DataFrames for clarity\n",
    "raw_cols = [\"furriness\", \"weight_kg\", \"shoulder_height_m\"]\n",
    "df_vectors_raw = pd.DataFrame(X_raw, index=df.index, columns=raw_cols)\n",
    "df_vectors_norm = pd.DataFrame(X_norm, index=df.index, columns=[c + \"_norm\" for c in raw_cols])\n",
    "\n",
    "display(df_vectors_raw)\n",
    "display(df_vectors_norm)\n"
   ]
  },
  {
   "cell_type": "markdown",
   "id": "0bcc58a4",
   "metadata": {},
   "source": [
    "\n",
    "## Plot the 3D vector space (normalized)\n",
    "\n",
    "Points that are **closer** represent animals that are **more similar** under our chosen features.\n"
   ]
  },
  {
   "cell_type": "code",
   "execution_count": null,
   "id": "68ce6e75",
   "metadata": {},
   "outputs": [],
   "source": [
    "\n",
    "from mpl_toolkits.mplot3d import Axes3D  # noqa: F401\n",
    "\n",
    "fig = plt.figure(figsize=(6,6))\n",
    "ax = fig.add_subplot(111, projection='3d')\n",
    "\n",
    "xs = df_vectors_norm[\"furriness_norm\"].values\n",
    "ys = df_vectors_norm[\"weight_kg_norm\"].values\n",
    "zs = df_vectors_norm[\"shoulder_height_m_norm\"].values\n",
    "\n",
    "ax.scatter(xs, ys, zs)\n",
    "\n",
    "for i, name in enumerate(df_vectors_norm.index):\n",
    "    ax.text(xs[i], ys[i], zs[i], \" \" + name, fontsize=9)\n",
    "\n",
    "ax.set_xlabel(\"Furriness (norm)\")\n",
    "ax.set_ylabel(\"Weight (norm)\")\n",
    "ax.set_zlabel(\"Shoulder Height (norm)\")\n",
    "ax.set_title(\"Animals in 3D Feature Space (Normalized)\")\n",
    "plt.tight_layout()\n",
    "plt.show()\n"
   ]
  },
  {
   "cell_type": "markdown",
   "id": "908f1e5c",
   "metadata": {},
   "source": [
    "\n",
    "## Distances & Similarities\n",
    "\n",
    "We'll compute both **Euclidean distance** and **cosine similarity** between every pair.\n",
    "- **Euclidean distance:** how far apart points are in the space.\n",
    "- **Cosine similarity:** how aligned the vectors are (angle-based).\n",
    "\n",
    "On this toy dataset, we should see that the **cat** and **dog** end up closer/more similar to each other than to the **lizard**, reflecting intuitive meaning.\n"
   ]
  },
  {
   "cell_type": "code",
   "execution_count": null,
   "id": "c4e5ae20",
   "metadata": {},
   "outputs": [],
   "source": [
    "\n",
    "def euclidean_distance_matrix(X):\n",
    "    # X: (n, d)\n",
    "    diffs = X[:, None, :] - X[None, :, :]\n",
    "    dists = np.sqrt((diffs ** 2).sum(axis=-1))\n",
    "    return dists\n",
    "\n",
    "def cosine_similarity_matrix(X):\n",
    "    # X: (n, d)\n",
    "    norms = np.linalg.norm(X, axis=1, keepdims=True)\n",
    "    Xn = np.divide(X, np.where(norms==0, 1.0, norms))\n",
    "    return Xn @ Xn.T\n",
    "\n",
    "E = euclidean_distance_matrix(X_norm)\n",
    "C = cosine_similarity_matrix(X_norm)\n",
    "\n",
    "df_euclid = pd.DataFrame(E, index=df.index, columns=df.index)\n",
    "df_cosine = pd.DataFrame(C, index=df.index, columns=df.index)\n",
    "\n",
    "display(df_euclid.round(3))\n",
    "display(df_cosine.round(3))\n"
   ]
  },
  {
   "cell_type": "markdown",
   "id": "d99be1c5",
   "metadata": {},
   "source": [
    "\n",
    "### Heatmap views\n"
   ]
  },
  {
   "cell_type": "code",
   "execution_count": null,
   "id": "90254eb6",
   "metadata": {},
   "outputs": [],
   "source": [
    "\n",
    "# Euclidean distance heatmap\n",
    "fig = plt.figure(figsize=(5,4))\n",
    "plt.imshow(df_euclid.values, interpolation='nearest')\n",
    "plt.title(\"Euclidean Distance (Normalized Features)\")\n",
    "plt.xticks(range(len(df_euclid.columns)), df_euclid.columns, rotation=20, ha='right')\n",
    "plt.yticks(range(len(df_euclid.index)), df_euclid.index)\n",
    "plt.colorbar()\n",
    "plt.tight_layout()\n",
    "plt.show()\n"
   ]
  },
  {
   "cell_type": "code",
   "execution_count": null,
   "id": "41a2203d",
   "metadata": {},
   "outputs": [],
   "source": [
    "\n",
    "# Cosine similarity heatmap\n",
    "fig = plt.figure(figsize=(5,4))\n",
    "plt.imshow(df_cosine.values, interpolation='nearest')\n",
    "plt.title(\"Cosine Similarity (Normalized Features)\")\n",
    "plt.xticks(range(len(df_cosine.columns)), df_cosine.columns, rotation=20, ha='right')\n",
    "plt.yticks(range(len(df_cosine.index)), df_cosine.index)\n",
    "plt.colorbar()\n",
    "plt.tight_layout()\n",
    "plt.show()\n"
   ]
  },
  {
   "cell_type": "markdown",
   "id": "ea21274d",
   "metadata": {},
   "source": [
    "\n",
    "## Nearest neighbors (who's closest to whom?)\n",
    "\n",
    "Using cosine similarity and Euclidean distance, identify each animal's closest neighbor.\n"
   ]
  },
  {
   "cell_type": "code",
   "execution_count": null,
   "id": "6d634487",
   "metadata": {},
   "outputs": [],
   "source": [
    "\n",
    "def nearest_neighbor_by_distance(df_dist):\n",
    "    out = {}\n",
    "    for row in df_dist.index:\n",
    "        # exclude self (distance 0)\n",
    "        neighbors = df_dist.loc[row].drop(labels=[row])\n",
    "        out[row] = neighbors.idxmin()\n",
    "    return out\n",
    "\n",
    "def nearest_neighbor_by_cosine(df_cos):\n",
    "    out = {}\n",
    "    for row in df_cos.index:\n",
    "        # exclude self (similarity 1)\n",
    "        neighbors = df_cos.loc[row].drop(labels=[row])\n",
    "        out[row] = neighbors.idxmax()\n",
    "    return out\n",
    "\n",
    "nn_euclid = nearest_neighbor_by_distance(df_euclid)\n",
    "nn_cosine = nearest_neighbor_by_cosine(df_cosine)\n",
    "\n",
    "print(\"Nearest neighbor by Euclidean distance:\")\n",
    "for k, v in nn_euclid.items():\n",
    "    print(f\"  {k} → {v}\")\n",
    "\n",
    "print(\"\\nNearest neighbor by Cosine similarity:\")\n",
    "for k, v in nn_cosine.items():\n",
    "    print(f\"  {k} → {v}\")\n"
   ]
  },
  {
   "cell_type": "markdown",
   "id": "01ba9ba6",
   "metadata": {},
   "source": [
    "\n",
    "## Wrap‑up\n",
    "\n",
    "- We picked **three human-interpretable features** and placed each animal as a point in this 3D space.\n",
    "- **Proximity** (small distances / high cosine similarity) corresponds to **perceived relatedness** under those features.\n",
    "- This mirrors how embedding spaces in modern ML work: **nearby vectors share meaning**, even when the model builds those vectors from complex data instead of simple hand-crafted features.\n",
    "\n",
    "Try modifying feature weights, adding new dimensions (e.g., *diet type*, *nocturnal vs diurnal*, *lifespan*), or introducing more animals to see how the geometry—and therefore the **meaning**—shifts.\n"
   ]
  }
 ],
 "metadata": {},
 "nbformat": 4,
 "nbformat_minor": 5
}
