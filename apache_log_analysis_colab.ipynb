{
  "cells": [
    {
      "cell_type": "markdown",
      "metadata": {
        "id": "view-in-github",
        "colab_type": "text"
      },
      "source": [
        "<a href=\"https://colab.research.google.com/github/besimorhino/ai-workshop/blob/main/apache_log_analysis_colab.ipynb\" target=\"_parent\"><img src=\"https://colab.research.google.com/assets/colab-badge.svg\" alt=\"Open In Colab\"/></a>"
      ]
    },
    {
      "cell_type": "markdown",
      "metadata": {
        "id": "JpCJfZ7xV-OP"
      },
      "source": [
        "# Apache Log Analysis: Classic Stats vs. ML\n",
        "\n",
        "This notebook demonstrates how standard statistical techniques often beat or match ML for common log-analysis tasks—while using fewer CPU cycles.\n",
        "\n",
        "**What you'll do:**\n",
        "1. Load a sample Apache access log (or generate one).\n",
        "2. Parse to a tidy DataFrame.\n",
        "3. Perform common security analysis tasks with *simple statistics* (counts, rates, thresholds, z/MAD).\n",
        "4. Attempt the same tasks with an *ML method* (Isolation Forest), and compare results.\n",
        "5. Measure **wall time** (`%%time`) and **CPU effort** (process user+sys time deltas) for each step.\n",
        "\n",
        "> TL;DR: For many operational questions (top talkers, spikes, brute-force/scans, hot endpoints), classic stats are faster, cheaper, and easier to explain. This workbook will prove it.\n",
        "\n",
        "> Note: this workbook is designed to only work with Apache/Nginx combined logs. This workbook would require fairly intense rework to accept other log types.\n",
        "---\n",
        "\n"
      ],
      "id": "JpCJfZ7xV-OP"
    },
    {
      "cell_type": "markdown",
      "metadata": {
        "id": "Nlxr4117V-OQ"
      },
      "source": [
        "## 0) Environment Setup\n",
        "Installs dependencies. The helper `cpu_meter` context reports per-cell CPU effort."
      ],
      "id": "Nlxr4117V-OQ"
    },
    {
      "cell_type": "code",
      "metadata": {
        "id": "setup"
      },
      "source": [
        "%%capture\n",
        "!pip -q install pandas numpy matplotlib scikit-learn psutil python-dateutil"
      ],
      "execution_count": null,
      "outputs": [],
      "id": "setup"
    },
    {
      "cell_type": "code",
      "metadata": {
        "id": "77TXJrgxV-OQ"
      },
      "source": [
        "import psutil, time, resource\n",
        "from contextlib import contextmanager\n",
        "\n",
        "@contextmanager\n",
        "def cpu_meter(label=\"work\"):\n",
        "    \"\"\"Context manager to measure user+system CPU time deltas for the current process.\"\"\"\n",
        "    p = psutil.Process()\n",
        "    t0 = p.cpu_times()\n",
        "    try:\n",
        "        yield\n",
        "    finally:\n",
        "        t1 = p.cpu_times()\n",
        "        user = t1.user - t0.user\n",
        "        sysc = t1.system - t0.system\n",
        "        print(f\"[CPU] {label}: user={user:.4f}s system={sysc:.4f}s total={user+sysc:.4f}s\")"
      ],
      "execution_count": null,
      "outputs": [],
      "id": "77TXJrgxV-OQ"
    },
    {
      "cell_type": "markdown",
      "metadata": {
        "id": "_lV6xG1dV-OR"
      },
      "source": [
        "## 1) Get Logs\n",
        "Pick **one** of the options below.\n",
        "\n",
        "- **A. Upload**: Use the file picker.\n",
        "- **B. Download**: Supply a URL to a public CLF/combined log.\n",
        "- **C. Generate**: Create synthetic logs with realistic patterns (scans, brute-force, spikes)."
      ],
      "id": "_lV6xG1dV-OR"
    },
    {
      "cell_type": "code",
      "metadata": {
        "id": "zUmis9d5V-OR"
      },
      "source": [
        "# A) Upload from your machine\n",
        "from google.colab import files\n",
        "print(\"Upload your Apache access log (Common or Combined format).\")\n",
        "uploaded = files.upload()  # choose one file\n",
        "LOG_PATH = next(iter(uploaded.keys())) if uploaded else None\n",
        "LOG_PATH"
      ],
      "execution_count": null,
      "outputs": [],
      "id": "zUmis9d5V-OR"
    },
    {
      "cell_type": "code",
      "metadata": {
        "id": "cTU7uP8EV-OR"
      },
      "source": [
        "# B) Download from a URL (optional). Set URL then run the cell.\n",
        "%%time\n",
        "with cpu_meter(\"download\"):\n",
        "    URL = \"\"  # e.g., \"https://example.com/sample_access.log\"\n",
        "    if URL:\n",
        "        import urllib.request\n",
        "        LOG_PATH = \"downloaded_access.log\"\n",
        "        urllib.request.urlretrieve(URL, LOG_PATH)\n",
        "LOG_PATH if 'LOG_PATH' in globals() else None"
      ],
      "execution_count": null,
      "outputs": [],
      "id": "cTU7uP8EV-OR"
    },
    {
      "cell_type": "code",
      "metadata": {
        "id": "MQF6PVMuV-OS"
      },
      "source": [
        "# C) Generate synthetic logs (set N_LINES to control size)\n",
        "%%time\n",
        "import random, datetime, ipaddress\n",
        "from dateutil.tz import tzutc\n",
        "from pathlib import Path\n",
        "\n",
        "N_LINES = 200_000  # scale up/down for benchmarking\n",
        "random.seed(42)\n",
        "\n",
        "def rand_ip():\n",
        "    return str(ipaddress.IPv4Address(random.getrandbits(32)))\n",
        "\n",
        "def gen_log(n=10_000, path=\"synthetic_access.log\"):\n",
        "    start = datetime.datetime(2024, 1, 1, 0, 0, tzinfo=tzutc())\n",
        "    methods = [\"GET\",\"POST\",\"HEAD\"]\n",
        "    statuses = [200, 200, 200, 301, 302, 403, 404, 500]  # weighted\n",
        "    urls = [\n",
        "        \"/\", \"/index.html\", \"/login\", \"/admin\", \"/api/v1/items\",\n",
        "        \"/api/v1/items/1\", \"/wp-login.php\", \"/phpmyadmin/index.php\",\n",
        "        \"/robots.txt\", \"/search?q=test\", \"/favicon.ico\"\n",
        "    ]\n",
        "    uas = [\n",
        "        \"Mozilla/5.0\", \"curl/7.88.1\", \"python-requests/2.31\", \"sqlmap/1.7\",\n",
        "        \"ZGrab/0.x\", \"Nmap Scripting Engine\"\n",
        "    ]\n",
        "    # Hot/legit clients\n",
        "    legit_ips = [rand_ip() for _ in range(200)]\n",
        "    # A few noisy scanners/brute-forcers\n",
        "    bad_ips = [rand_ip() for _ in range(8)]\n",
        "\n",
        "    with open(path, \"w\") as f:\n",
        "        t = start\n",
        "        for i in range(n):\n",
        "            # time marches, with occasional spikes\n",
        "            dt = random.randint(0,3)\n",
        "            if i % 5000 == 0:\n",
        "                dt += random.randint(0,40)  # bursty inter-arrivals\n",
        "            t = t + datetime.timedelta(seconds=dt)\n",
        "            ip = random.choice(legit_ips if random.random()>0.04 else bad_ips)\n",
        "            method = random.choice(methods)\n",
        "            url = random.choice(urls)\n",
        "            status = random.choice(statuses)\n",
        "            size = random.randint(120, 5000)\n",
        "            ua = random.choice(uas)\n",
        "            referer = \"-\"\n",
        "            # occasional brute-force pattern\n",
        "            if ip in bad_ips and random.random() < 0.3:\n",
        "                url = \"/login\"\n",
        "                status = random.choice([401,403,200])\n",
        "            # common log combined\n",
        "            ts = t.strftime(\"%d/%b/%Y:%H:%M:%S %z\")\n",
        "            line = f\"{ip} - - [{ts}] \\\"{method} {url} HTTP/1.1\\\" {status} {size} \\\"{referer}\\\" \\\"{ua}\\\"\\n\"\n",
        "            f.write(line)\n",
        "    return path\n",
        "\n",
        "with cpu_meter(\"generate synthetic\"):\n",
        "    LOG_PATH = gen_log(N_LINES)\n",
        "LOG_PATH"
      ],
      "execution_count": null,
      "outputs": [],
      "id": "MQF6PVMuV-OS"
    },
    {
      "cell_type": "markdown",
      "metadata": {
        "id": "55F4XVkmV-OS"
      },
      "source": [
        "## 2) Parse Logs\n",
        "Supports Apache **Combined Log Format**.\n",
        "> Note: if you want to test with other logs, you must adjust the regex used here."
      ],
      "id": "55F4XVkmV-OS"
    },
    {
      "cell_type": "code",
      "metadata": {
        "id": "jtFUNqNYV-OS"
      },
      "source": [
        "%%time\n",
        "import re, pandas as pd\n",
        "from datetime import datetime\n",
        "\n",
        "# Updated pattern for Apache Combined Log Format based on unmatched lines\n",
        "pattern = re.compile(r'''\n",
        "^\n",
        "(?P<ip>\\S+)\\s+                    # Client IP address\n",
        "(?P<ident>\\S+)\\s+                 # Identity of the user, '-' if not available\n",
        "(?P<user>\\S+)\\s+                  # Userid of the person requesting the document, '-' if not available\n",
        "\\[(?P<ts>[^\\]]+)\\]\\s+             # Timestamp\n",
        "\"(?P<method>\\S+)\\s+               # Request method (GET, POST, etc.)\n",
        "(?P<url>[^\\s]+)\\s+                # Requested URL\n",
        "(?P<proto>[^\"]+)\"\\s+              # Protocol (HTTP/1.1)\n",
        "(?P<status>\\d{3})\\s+              # HTTP status code\n",
        "(?P<size>\\S+)\\s+                  # Size of the object returned, '-' if none\n",
        "\"(?P<referer>(?:[^\"\\\\]|\\\\.)*)\"\\s+ # Referer header (handles escaped quotes)\n",
        "\"(?P<ua>(?:[^\"\\\\]|\\\\.)*)\"         # User-Agent header (handles escaped quotes)\n",
        "(?:.*?)\\s*                        # Match any additional fields lazily (non-greedy)\n",
        "$\n",
        "''', re.VERBOSE)\n",
        "\n",
        "\n",
        "def parse_lines(path):\n",
        "    unmatched_lines = []\n",
        "    with open(path, 'r', errors='ignore') as f:\n",
        "        for line in f:\n",
        "            m = pattern.match(line)\n",
        "            if not m:\n",
        "                unmatched_lines.append(line.strip())\n",
        "                continue\n",
        "            d = m.groupdict()\n",
        "            try:\n",
        "                d['status'] = int(d['status'])\n",
        "            except ValueError:\n",
        "                d['status'] = -1 # Indicate parsing error\n",
        "            try:\n",
        "                d['size'] = 0 if d['size'] == '-' else int(d['size'])\n",
        "            except ValueError:\n",
        "                 d['size'] = -1 # Indicate parsing error\n",
        "            try:\n",
        "                d['dt'] = datetime.strptime(d['ts'], \"%d/%b/%Y:%H:%M:%S %z\")\n",
        "            except ValueError:\n",
        "                 d['dt'] = None # Indicate parsing error\n",
        "            yield d\n",
        "    if unmatched_lines:\n",
        "        print(f\"Warning: {len(unmatched_lines)} lines did not match the regex pattern. First 10 unmatched lines:\")\n",
        "        for i, line in enumerate(unmatched_lines[:10]):\n",
        "            print(f\"  {i+1}: {line}\")\n",
        "\n",
        "\n",
        "with cpu_meter(\"parse->DataFrame\"):\n",
        "    df = pd.DataFrame(parse_lines(LOG_PATH))\n",
        "df.head()"
      ],
      "execution_count": null,
      "outputs": [],
      "id": "jtFUNqNYV-OS"
    },
    {
      "cell_type": "code",
      "metadata": {
        "id": "lZY0G48lV-OS"
      },
      "source": [
        "df.shape, df.dtypes"
      ],
      "execution_count": null,
      "outputs": [],
      "id": "lZY0G48lV-OS"
    },
    {
      "cell_type": "markdown",
      "metadata": {
        "id": "hbLV7MhyV-OS"
      },
      "source": [
        "## 3) Classic Stats: Core Questions\n",
        "Fast, interpretable baselines that often suffice in operations."
      ],
      "id": "hbLV7MhyV-OS"
    },
    {
      "cell_type": "code",
      "metadata": {
        "id": "YH103GWgV-OS"
      },
      "source": [
        "%%time\n",
        "import numpy as np\n",
        "with cpu_meter(\"groupby counts\"):\n",
        "    by_ip = df.groupby('ip').size().sort_values(ascending=False).rename('count')\n",
        "by_ip.head(10)"
      ],
      "execution_count": null,
      "outputs": [],
      "id": "YH103GWgV-OS"
    },
    {
      "cell_type": "code",
      "metadata": {
        "id": "YQLPPkHdV-OS"
      },
      "source": [
        "%%time\n",
        "with cpu_meter(\"status dist\"):\n",
        "    status_dist = df['status'].value_counts().sort_index()\n",
        "status_dist"
      ],
      "execution_count": null,
      "outputs": [],
      "id": "YQLPPkHdV-OS"
    },
    {
      "cell_type": "code",
      "metadata": {
        "id": "ng9r6DypV-OT"
      },
      "source": [
        "%%time\n",
        "with cpu_meter(\"requests per minute + anomalies\"):\n",
        "    per_min = df.set_index('dt').resample('1min').size().rename('rpm').to_frame()\n",
        "    per_min['z'] = (per_min['rpm'] - per_min['rpm'].mean()) / (per_min['rpm'].std() + 1e-9)\n",
        "    mad = (per_min['rpm'] - per_min['rpm'].median()).abs().median() + 1e-9\n",
        "    per_min['mad_z'] = 0.6745*(per_min['rpm']-per_min['rpm'].median())/mad\n",
        "    anomalies = per_min[(per_min['z'].abs()>3) | (per_min['mad_z'].abs()>3)]\n",
        "anomalies.head()"
      ],
      "execution_count": null,
      "outputs": [],
      "id": "ng9r6DypV-OT"
    },
    {
      "cell_type": "code",
      "metadata": {
        "id": "uEeumOzlV-OT"
      },
      "source": [
        "%%time\n",
        "with cpu_meter(\"simple rules: 404 and login abuse\"):\n",
        "    by_ip_status = df.pivot_table(index='ip', columns='status', values='url', aggfunc='count', fill_value=0)\n",
        "    by_ip_status['total'] = by_ip_status.sum(1)\n",
        "    by_ip_status['rate_404'] = by_ip_status.get(404,0) / by_ip_status['total'].replace(0, np.nan)\n",
        "    brute_candidates = (by_ip_status.get(401,0) + by_ip_status.get(403,0)) > 50\n",
        "    scans_404 = (by_ip_status['rate_404'] > 0.5) & (by_ip_status['total']>30)\n",
        "    flagged_ips = by_ip_status[ brute_candidates | scans_404 ].sort_values('total', ascending=False)\n",
        "flagged_ips.head(10)"
      ],
      "execution_count": null,
      "outputs": [],
      "id": "uEeumOzlV-OT"
    },
    {
      "cell_type": "markdown",
      "metadata": {
        "id": "BFc1erlOV-OT"
      },
      "source": [
        "## 4) ML Approach (Isolation Forest)\n",
        "We'll aggregate features per IP and run an outlier detector. Measure fit + score time and compare flagged entities."
      ],
      "id": "BFc1erlOV-OT"
    },
    {
      "cell_type": "code",
      "metadata": {
        "id": "VvNjfer1V-OT"
      },
      "source": [
        "%%time\n",
        "with cpu_meter(\"feature engineering (per IP)\"):\n",
        "    feats = df.groupby('ip').agg(\n",
        "        total=('size','sum'), # Corrected to use tuple (column, aggfunc)\n",
        "        uniq_urls=('url','nunique'), # Corrected to use tuple (column, aggfunc)\n",
        "        mean_size=('size','mean'), # Corrected to use tuple (column, aggfunc)\n",
        "        p404=('status', lambda x: (x==404).mean()), # Corrected to use tuple (column, aggfunc)\n",
        "        p401=('status', lambda x: (x==401).mean()), # Corrected to use tuple (column, aggfunc)\n",
        "        p403=('status', lambda x: (x==403).mean()), # Corrected to use tuple (column, aggfunc)\n",
        "        p5xx=('status', lambda x: (x>=500).mean())  # Corrected to use tuple (column, aggfunc)\n",
        "    )\n",
        "    # fill NaNs and scale rudimentarily\n",
        "    X = feats.fillna(0)\n",
        "X.head()"
      ],
      "execution_count": null,
      "outputs": [],
      "id": "VvNjfer1V-OT"
    },
    {
      "cell_type": "code",
      "metadata": {
        "id": "rbMbT6SHV-OT"
      },
      "source": [
        "%%time\n",
        "from sklearn.ensemble import IsolationForest\n",
        "with cpu_meter(\"IsolationForest fit+score\"):\n",
        "    iso = IsolationForest(n_estimators=100, contamination=0.02, random_state=42, n_jobs=-1)\n",
        "    preds = iso.fit_predict(X)\n",
        "    scores = iso.decision_function(X)\n",
        "X.assign(pred=preds, score=scores).sort_values('score').head(10)"
      ],
      "execution_count": null,
      "outputs": [],
      "id": "rbMbT6SHV-OT"
    },
    {
      "cell_type": "markdown",
      "metadata": {
        "id": "ldjH6qUzV-OT"
      },
      "source": [
        "### Compare with Simple Rules\n",
        "Which IPs did each approach flag? Are they similar? How much compute did each take?"
      ],
      "id": "ldjH6qUzV-OT"
    },
    {
      "cell_type": "code",
      "metadata": {
        "id": "LqQG3OgxV-OT"
      },
      "source": [
        "#%%time\n",
        "with cpu_meter(\"compare sets\"):\n",
        "    ml_flagged = set(X.assign(pred=preds).query(\"pred==-1\").index)\n",
        "    rules_flagged = set(flagged_ips.index)\n",
        "    overlap = ml_flagged & rules_flagged\n",
        "    only_ml = ml_flagged - rules_flagged\n",
        "    only_rules = rules_flagged - ml_flagged\n",
        "    print(\"Counts -> ML:\", len(ml_flagged), \"Rules:\", len(rules_flagged), \"Overlap:\", len(overlap))\n",
        "    print(\"Only ML (sample up to 10):\", list(sorted(only_ml))[:10])\n",
        "    print(\"Only Rules (sample up to 10):\", list(sorted(only_rules))[:10])"
      ],
      "execution_count": null,
      "outputs": [],
      "id": "LqQG3OgxV-OT"
    },
    {
      "cell_type": "markdown",
      "metadata": {
        "id": "zglMsQkjV-OT"
      },
      "source": [
        "## 5) Throughput Benchmarks (scaling sense)\n",
        "Estimate records/second for parsing & aggregation on your hardware."
      ],
      "id": "zglMsQkjV-OT"
    },
    {
      "cell_type": "code",
      "metadata": {
        "id": "0EodPryKV-OT"
      },
      "source": [
        "%%time\n",
        "with cpu_meter(\"parse throughput (re-parse)\"):\n",
        "    import itertools\n",
        "    # re-parse first 100k lines for a fair per-iteration measure\n",
        "    N = 100_000\n",
        "    gen = itertools.islice(parse_lines(LOG_PATH), N)\n",
        "    # Capture the start time before parsing\n",
        "    start_time = time.time()\n",
        "    df100k = pd.DataFrame(gen)\n",
        "    # Capture the end time after parsing\n",
        "    end_time = time.time()\n",
        "    # Calculate the elapsed time\n",
        "    elapsed_time = end_time - start_time\n",
        "    # Calculate the rate\n",
        "    rate = N / max(1e-9, elapsed_time)\n",
        "    print(f\"Parsing rate: {rate:.2f} lines/sec\")\n",
        "df100k.shape"
      ],
      "execution_count": null,
      "outputs": [],
      "id": "0EodPryKV-OT"
    },
    {
      "cell_type": "code",
      "metadata": {
        "id": "eOJeuMZqV-OT"
      },
      "source": [
        "%%time\n",
        "with cpu_meter(\"groupby throughput\"):\n",
        "    _ = df.groupby('ip').size()\n",
        "print(\"IPs:\", _.shape[0])"
      ],
      "execution_count": null,
      "outputs": [],
      "id": "eOJeuMZqV-OT"
    },
    {
      "cell_type": "markdown",
      "metadata": {
        "id": "jt-NMpaRV-OT"
      },
      "source": [
        "## 6) Visual sanity checks (optional)\n",
        "Simple Matplotlib plots; feel free to skip for pure benchmarking."
      ],
      "id": "jt-NMpaRV-OT"
    },
    {
      "cell_type": "code",
      "metadata": {
        "id": "D3oGcBlqV-OT"
      },
      "source": [
        "%%time\n",
        "import matplotlib.pyplot as plt\n",
        "with cpu_meter(\"plot rpm\"):\n",
        "    per_min['rpm'].plot(title='Requests per minute'); plt.xlabel('time'); plt.ylabel('rpm'); plt.show()\n",
        "    anomalies['rpm'].plot(style='o', title='Anomalous minutes'); plt.show()"
      ],
      "execution_count": null,
      "outputs": [],
      "id": "D3oGcBlqV-OT"
    },
    {
      "cell_type": "markdown",
      "metadata": {
        "id": "m4rmWdksV-OT"
      },
      "source": [
        "## 7) Takeaways\n",
        "- **Speed & CPU**: Group-bys, counts, and simple thresholds are extremely fast and scalable.\n",
        "- **Transparency**: Stats-based rules are easy to explain and tune.\n",
        "- **ML overhead**: Feature engineering + model fitting add CPU cost; benefits appear mainly on complex, high-dimensional patterns or when labels/ground-truth are absent and rules are hard to craft.\n",
        "- **Balanced approach**: Start with stats; add ML only where it clearly wins."
      ],
      "id": "m4rmWdksV-OT"
    }
  ],
  "metadata": {
    "colab": {
      "provenance": [],
      "include_colab_link": true
    },
    "kernelspec": {
      "display_name": "Python 3",
      "language": "python",
      "name": "python3"
    },
    "language_info": {
      "name": "python",
      "version": "3.x"
    }
  },
  "nbformat": 4,
  "nbformat_minor": 5
}