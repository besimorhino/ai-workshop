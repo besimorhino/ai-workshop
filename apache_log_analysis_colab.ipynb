{
  "cells": [
    {
      "cell_type": "markdown",
      "metadata": {
        "id": "view-in-github",
        "colab_type": "text"
      },
      "source": [
        "<a href=\"https://colab.research.google.com/github/besimorhino/ai-workshop/blob/main/apache_log_analysis_colab.ipynb\" target=\"_parent\"><img src=\"https://colab.research.google.com/assets/colab-badge.svg\" alt=\"Open In Colab\"/></a>"
      ]
    },
    {
      "cell_type": "markdown",
      "metadata": {
        "id": "JpCJfZ7xV-OP"
      },
      "source": [
        "# Apache Log Analysis in Colab: Classic Stats vs. ML\n",
        "\n",
        "This notebook demonstrates how standard statistical techniques often beat or match ML for common log-analysis tasks—while using fewer CPU cycles.\n",
        "\n",
        "**What you'll do:**\n",
        "1. Load a sample Apache access log (or generate one).\n",
        "2. Parse to a tidy DataFrame.\n",
        "3. Solve bread‑and‑butter tasks with *simple statistics* (counts, rates, thresholds, z/MAD).\n",
        "4. Attempt the same tasks with an *ML method* (Isolation Forest), and compare results.\n",
        "5. Measure **wall time** (`%%time`) and **CPU effort** (process user+sys time deltas) for each step.\n",
        "\n",
        "> TL;DR: For many operational questions (top talkers, spikes, brute-force/scans, hot endpoints), classic stats are faster, cheaper, and easier to explain."
      ],
      "id": "JpCJfZ7xV-OP"
    },
    {
      "cell_type": "markdown",
      "metadata": {
        "id": "Nlxr4117V-OQ"
      },
      "source": [
        "## 0) Environment Setup\n",
        "Installs light dependencies. The helper `cpu_meter` context reports per-cell CPU effort."
      ],
      "id": "Nlxr4117V-OQ"
    },
    {
      "cell_type": "code",
      "metadata": {
        "id": "setup"
      },
      "source": [
        "%%capture\n",
        "!pip -q install pandas numpy matplotlib scikit-learn psutil python-dateutil"
      ],
      "execution_count": null,
      "outputs": [],
      "id": "setup"
    },
    {
      "cell_type": "code",
      "metadata": {
        "id": "77TXJrgxV-OQ"
      },
      "source": [
        "import psutil, time, resource\n",
        "from contextlib import contextmanager\n",
        "\n",
        "@contextmanager\n",
        "def cpu_meter(label=\"work\"):\n",
        "    \"\"\"Context manager to measure user+system CPU time deltas for the current process.\"\"\"\n",
        "    p = psutil.Process()\n",
        "    t0 = p.cpu_times()\n",
        "    try:\n",
        "        yield\n",
        "    finally:\n",
        "        t1 = p.cpu_times()\n",
        "        user = t1.user - t0.user\n",
        "        sysc = t1.system - t0.system\n",
        "        print(f\"[CPU] {label}: user={user:.4f}s system={sysc:.4f}s total={user+sysc:.4f}s\")"
      ],
      "execution_count": null,
      "outputs": [],
      "id": "77TXJrgxV-OQ"
    },
    {
      "cell_type": "markdown",
      "metadata": {
        "id": "_lV6xG1dV-OR"
      },
      "source": [
        "## 1) Get Logs\n",
        "Pick **one** of the options below.\n",
        "\n",
        "- **A. Upload**: Use the file picker.\n",
        "- **B. Download**: Supply a URL to a public CLF/combined log.\n",
        "- **C. Generate**: Create synthetic logs with realistic patterns (scans, brute-force, spikes)."
      ],
      "id": "_lV6xG1dV-OR"
    },
    {
      "cell_type": "code",
      "metadata": {
        "colab": {
          "base_uri": "https://localhost:8080/",
          "height": 108
        },
        "id": "zUmis9d5V-OR",
        "outputId": "57a57723-379e-4de0-bb58-9959253dddda"
      },
      "source": [
        "# A) Upload from your machine\n",
        "from google.colab import files\n",
        "print(\"Upload your Apache access log (Common or Combined format).\")\n",
        "uploaded = files.upload()  # choose one file\n",
        "LOG_PATH = next(iter(uploaded.keys())) if uploaded else None\n",
        "LOG_PATH"
      ],
      "execution_count": null,
      "outputs": [
        {
          "output_type": "stream",
          "name": "stdout",
          "text": [
            "Upload your Apache access log (Common or Combined format).\n"
          ]
        },
        {
          "output_type": "display_data",
          "data": {
            "text/plain": [
              "<IPython.core.display.HTML object>"
            ],
            "text/html": [
              "\n",
              "     <input type=\"file\" id=\"files-ef0c3f57-1d98-4923-a008-f90d6b4975f8\" name=\"files[]\" multiple disabled\n",
              "        style=\"border:none\" />\n",
              "     <output id=\"result-ef0c3f57-1d98-4923-a008-f90d6b4975f8\">\n",
              "      Upload widget is only available when the cell has been executed in the\n",
              "      current browser session. Please rerun this cell to enable.\n",
              "      </output>\n",
              "      <script>// Copyright 2017 Google LLC\n",
              "//\n",
              "// Licensed under the Apache License, Version 2.0 (the \"License\");\n",
              "// you may not use this file except in compliance with the License.\n",
              "// You may obtain a copy of the License at\n",
              "//\n",
              "//      http://www.apache.org/licenses/LICENSE-2.0\n",
              "//\n",
              "// Unless required by applicable law or agreed to in writing, software\n",
              "// distributed under the License is distributed on an \"AS IS\" BASIS,\n",
              "// WITHOUT WARRANTIES OR CONDITIONS OF ANY KIND, either express or implied.\n",
              "// See the License for the specific language governing permissions and\n",
              "// limitations under the License.\n",
              "\n",
              "/**\n",
              " * @fileoverview Helpers for google.colab Python module.\n",
              " */\n",
              "(function(scope) {\n",
              "function span(text, styleAttributes = {}) {\n",
              "  const element = document.createElement('span');\n",
              "  element.textContent = text;\n",
              "  for (const key of Object.keys(styleAttributes)) {\n",
              "    element.style[key] = styleAttributes[key];\n",
              "  }\n",
              "  return element;\n",
              "}\n",
              "\n",
              "// Max number of bytes which will be uploaded at a time.\n",
              "const MAX_PAYLOAD_SIZE = 100 * 1024;\n",
              "\n",
              "function _uploadFiles(inputId, outputId) {\n",
              "  const steps = uploadFilesStep(inputId, outputId);\n",
              "  const outputElement = document.getElementById(outputId);\n",
              "  // Cache steps on the outputElement to make it available for the next call\n",
              "  // to uploadFilesContinue from Python.\n",
              "  outputElement.steps = steps;\n",
              "\n",
              "  return _uploadFilesContinue(outputId);\n",
              "}\n",
              "\n",
              "// This is roughly an async generator (not supported in the browser yet),\n",
              "// where there are multiple asynchronous steps and the Python side is going\n",
              "// to poll for completion of each step.\n",
              "// This uses a Promise to block the python side on completion of each step,\n",
              "// then passes the result of the previous step as the input to the next step.\n",
              "function _uploadFilesContinue(outputId) {\n",
              "  const outputElement = document.getElementById(outputId);\n",
              "  const steps = outputElement.steps;\n",
              "\n",
              "  const next = steps.next(outputElement.lastPromiseValue);\n",
              "  return Promise.resolve(next.value.promise).then((value) => {\n",
              "    // Cache the last promise value to make it available to the next\n",
              "    // step of the generator.\n",
              "    outputElement.lastPromiseValue = value;\n",
              "    return next.value.response;\n",
              "  });\n",
              "}\n",
              "\n",
              "/**\n",
              " * Generator function which is called between each async step of the upload\n",
              " * process.\n",
              " * @param {string} inputId Element ID of the input file picker element.\n",
              " * @param {string} outputId Element ID of the output display.\n",
              " * @return {!Iterable<!Object>} Iterable of next steps.\n",
              " */\n",
              "function* uploadFilesStep(inputId, outputId) {\n",
              "  const inputElement = document.getElementById(inputId);\n",
              "  inputElement.disabled = false;\n",
              "\n",
              "  const outputElement = document.getElementById(outputId);\n",
              "  outputElement.innerHTML = '';\n",
              "\n",
              "  const pickedPromise = new Promise((resolve) => {\n",
              "    inputElement.addEventListener('change', (e) => {\n",
              "      resolve(e.target.files);\n",
              "    });\n",
              "  });\n",
              "\n",
              "  const cancel = document.createElement('button');\n",
              "  inputElement.parentElement.appendChild(cancel);\n",
              "  cancel.textContent = 'Cancel upload';\n",
              "  const cancelPromise = new Promise((resolve) => {\n",
              "    cancel.onclick = () => {\n",
              "      resolve(null);\n",
              "    };\n",
              "  });\n",
              "\n",
              "  // Wait for the user to pick the files.\n",
              "  const files = yield {\n",
              "    promise: Promise.race([pickedPromise, cancelPromise]),\n",
              "    response: {\n",
              "      action: 'starting',\n",
              "    }\n",
              "  };\n",
              "\n",
              "  cancel.remove();\n",
              "\n",
              "  // Disable the input element since further picks are not allowed.\n",
              "  inputElement.disabled = true;\n",
              "\n",
              "  if (!files) {\n",
              "    return {\n",
              "      response: {\n",
              "        action: 'complete',\n",
              "      }\n",
              "    };\n",
              "  }\n",
              "\n",
              "  for (const file of files) {\n",
              "    const li = document.createElement('li');\n",
              "    li.append(span(file.name, {fontWeight: 'bold'}));\n",
              "    li.append(span(\n",
              "        `(${file.type || 'n/a'}) - ${file.size} bytes, ` +\n",
              "        `last modified: ${\n",
              "            file.lastModifiedDate ? file.lastModifiedDate.toLocaleDateString() :\n",
              "                                    'n/a'} - `));\n",
              "    const percent = span('0% done');\n",
              "    li.appendChild(percent);\n",
              "\n",
              "    outputElement.appendChild(li);\n",
              "\n",
              "    const fileDataPromise = new Promise((resolve) => {\n",
              "      const reader = new FileReader();\n",
              "      reader.onload = (e) => {\n",
              "        resolve(e.target.result);\n",
              "      };\n",
              "      reader.readAsArrayBuffer(file);\n",
              "    });\n",
              "    // Wait for the data to be ready.\n",
              "    let fileData = yield {\n",
              "      promise: fileDataPromise,\n",
              "      response: {\n",
              "        action: 'continue',\n",
              "      }\n",
              "    };\n",
              "\n",
              "    // Use a chunked sending to avoid message size limits. See b/62115660.\n",
              "    let position = 0;\n",
              "    do {\n",
              "      const length = Math.min(fileData.byteLength - position, MAX_PAYLOAD_SIZE);\n",
              "      const chunk = new Uint8Array(fileData, position, length);\n",
              "      position += length;\n",
              "\n",
              "      const base64 = btoa(String.fromCharCode.apply(null, chunk));\n",
              "      yield {\n",
              "        response: {\n",
              "          action: 'append',\n",
              "          file: file.name,\n",
              "          data: base64,\n",
              "        },\n",
              "      };\n",
              "\n",
              "      let percentDone = fileData.byteLength === 0 ?\n",
              "          100 :\n",
              "          Math.round((position / fileData.byteLength) * 100);\n",
              "      percent.textContent = `${percentDone}% done`;\n",
              "\n",
              "    } while (position < fileData.byteLength);\n",
              "  }\n",
              "\n",
              "  // All done.\n",
              "  yield {\n",
              "    response: {\n",
              "      action: 'complete',\n",
              "    }\n",
              "  };\n",
              "}\n",
              "\n",
              "scope.google = scope.google || {};\n",
              "scope.google.colab = scope.google.colab || {};\n",
              "scope.google.colab._files = {\n",
              "  _uploadFiles,\n",
              "  _uploadFilesContinue,\n",
              "};\n",
              "})(self);\n",
              "</script> "
            ]
          },
          "metadata": {}
        },
        {
          "output_type": "stream",
          "name": "stdout",
          "text": [
            "Saving apache.access_combined.log.txt to apache.access_combined.log.txt\n"
          ]
        },
        {
          "output_type": "execute_result",
          "data": {
            "text/plain": [
              "'apache.access_combined.log.txt'"
            ],
            "application/vnd.google.colaboratory.intrinsic+json": {
              "type": "string"
            }
          },
          "metadata": {},
          "execution_count": 3
        }
      ],
      "id": "zUmis9d5V-OR"
    },
    {
      "cell_type": "code",
      "metadata": {
        "id": "cTU7uP8EV-OR"
      },
      "source": [
        "# B) Download from a URL (optional). Set URL then run the cell.\n",
        "%%time\n",
        "with cpu_meter(\"download\"):\n",
        "    URL = \"\"  # e.g., \"https://example.com/sample_access.log\"\n",
        "    if URL:\n",
        "        import urllib.request\n",
        "        LOG_PATH = \"downloaded_access.log\"\n",
        "        urllib.request.urlretrieve(URL, LOG_PATH)\n",
        "LOG_PATH if 'LOG_PATH' in globals() else None"
      ],
      "execution_count": null,
      "outputs": [],
      "id": "cTU7uP8EV-OR"
    },
    {
      "cell_type": "code",
      "metadata": {
        "id": "MQF6PVMuV-OS"
      },
      "source": [
        "# C) Generate synthetic logs (set N_LINES to control size)\n",
        "%%time\n",
        "import random, datetime, ipaddress\n",
        "from dateutil.tz import tzutc\n",
        "from pathlib import Path\n",
        "\n",
        "N_LINES = 200_000  # scale up/down for benchmarking\n",
        "random.seed(42)\n",
        "\n",
        "def rand_ip():\n",
        "    return str(ipaddress.IPv4Address(random.getrandbits(32)))\n",
        "\n",
        "def gen_log(n=10_000, path=\"synthetic_access.log\"):\n",
        "    start = datetime.datetime(2024, 1, 1, 0, 0, tzinfo=tzutc())\n",
        "    methods = [\"GET\",\"POST\",\"HEAD\"]\n",
        "    statuses = [200, 200, 200, 301, 302, 403, 404, 500]  # weighted\n",
        "    urls = [\n",
        "        \"/\", \"/index.html\", \"/login\", \"/admin\", \"/api/v1/items\",\n",
        "        \"/api/v1/items/1\", \"/wp-login.php\", \"/phpmyadmin/index.php\",\n",
        "        \"/robots.txt\", \"/search?q=test\", \"/favicon.ico\"\n",
        "    ]\n",
        "    uas = [\n",
        "        \"Mozilla/5.0\", \"curl/7.88.1\", \"python-requests/2.31\", \"sqlmap/1.7\",\n",
        "        \"ZGrab/0.x\", \"Nmap Scripting Engine\"\n",
        "    ]\n",
        "    # Hot/legit clients\n",
        "    legit_ips = [rand_ip() for _ in range(200)]\n",
        "    # A few noisy scanners/brute-forcers\n",
        "    bad_ips = [rand_ip() for _ in range(8)]\n",
        "\n",
        "    with open(path, \"w\") as f:\n",
        "        t = start\n",
        "        for i in range(n):\n",
        "            # time marches, with occasional spikes\n",
        "            dt = random.randint(0,3)\n",
        "            if i % 5000 == 0:\n",
        "                dt += random.randint(0,40)  # bursty inter-arrivals\n",
        "            t = t + datetime.timedelta(seconds=dt)\n",
        "            ip = random.choice(legit_ips if random.random()>0.04 else bad_ips)\n",
        "            method = random.choice(methods)\n",
        "            url = random.choice(urls)\n",
        "            status = random.choice(statuses)\n",
        "            size = random.randint(120, 5000)\n",
        "            ua = random.choice(uas)\n",
        "            referer = \"-\"\n",
        "            # occasional brute-force pattern\n",
        "            if ip in bad_ips and random.random() < 0.3:\n",
        "                url = \"/login\"\n",
        "                status = random.choice([401,403,200])\n",
        "            # common log combined\n",
        "            ts = t.strftime(\"%d/%b/%Y:%H:%M:%S %z\")\n",
        "            line = f\"{ip} - - [{ts}] \\\"{method} {url} HTTP/1.1\\\" {status} {size} \\\"{referer}\\\" \\\"{ua}\\\"\\n\"\n",
        "            f.write(line)\n",
        "    return path\n",
        "\n",
        "with cpu_meter(\"generate synthetic\"):\n",
        "    LOG_PATH = gen_log(N_LINES)\n",
        "LOG_PATH"
      ],
      "execution_count": null,
      "outputs": [],
      "id": "MQF6PVMuV-OS"
    },
    {
      "cell_type": "markdown",
      "metadata": {
        "id": "55F4XVkmV-OS"
      },
      "source": [
        "## 2) Parse Logs\n",
        "Supports Apache **Combined Log Format**. Adjust the regex for variants if needed."
      ],
      "id": "55F4XVkmV-OS"
    },
    {
      "cell_type": "code",
      "metadata": {
        "colab": {
          "base_uri": "https://localhost:8080/",
          "height": 344
        },
        "id": "jtFUNqNYV-OS",
        "outputId": "920e9dbf-0543-4f24-a3ca-ae55e73f0ade"
      },
      "source": [
        "%%time\n",
        "import re, pandas as pd\n",
        "from datetime import datetime\n",
        "\n",
        "# Updated pattern for Apache Combined Log Format based on unmatched lines\n",
        "pattern = re.compile(r'''\n",
        "^\n",
        "(?P<ip>\\S+)\\s+                    # Client IP address\n",
        "(?P<ident>\\S+)\\s+                 # Identity of the user, '-' if not available\n",
        "(?P<user>\\S+)\\s+                  # Userid of the person requesting the document, '-' if not available\n",
        "\\[(?P<ts>[^\\]]+)\\]\\s+             # Timestamp\n",
        "\"(?P<method>\\S+)\\s+               # Request method (GET, POST, etc.)\n",
        "(?P<url>[^\\s]+)\\s+                # Requested URL\n",
        "(?P<proto>[^\"]+)\"\\s+              # Protocol (HTTP/1.1)\n",
        "(?P<status>\\d{3})\\s+              # HTTP status code\n",
        "(?P<size>\\S+)\\s+                  # Size of the object returned, '-' if none\n",
        "\"(?P<referer>(?:[^\"\\\\]|\\\\.)*)\"\\s+ # Referer header (handles escaped quotes)\n",
        "\"(?P<ua>(?:[^\"\\\\]|\\\\.)*)\"         # User-Agent header (handles escaped quotes)\n",
        "(?:.*?)\\s*                        # Match any additional fields lazily (non-greedy)\n",
        "$\n",
        "''', re.VERBOSE)\n",
        "\n",
        "\n",
        "def parse_lines(path):\n",
        "    unmatched_lines = []\n",
        "    with open(path, 'r', errors='ignore') as f:\n",
        "        for line in f:\n",
        "            m = pattern.match(line)\n",
        "            if not m:\n",
        "                unmatched_lines.append(line.strip())\n",
        "                continue\n",
        "            d = m.groupdict()\n",
        "            try:\n",
        "                d['status'] = int(d['status'])\n",
        "            except ValueError:\n",
        "                d['status'] = -1 # Indicate parsing error\n",
        "            try:\n",
        "                d['size'] = 0 if d['size'] == '-' else int(d['size'])\n",
        "            except ValueError:\n",
        "                 d['size'] = -1 # Indicate parsing error\n",
        "            try:\n",
        "                d['dt'] = datetime.strptime(d['ts'], \"%d/%b/%Y:%H:%M:%S %z\")\n",
        "            except ValueError:\n",
        "                 d['dt'] = None # Indicate parsing error\n",
        "            yield d\n",
        "    if unmatched_lines:\n",
        "        print(f\"Warning: {len(unmatched_lines)} lines did not match the regex pattern. First 10 unmatched lines:\")\n",
        "        for i, line in enumerate(unmatched_lines[:10]):\n",
        "            print(f\"  {i+1}: {line}\")\n",
        "\n",
        "\n",
        "with cpu_meter(\"parse->DataFrame\"):\n",
        "    df = pd.DataFrame(parse_lines(LOG_PATH))\n",
        "df.head()"
      ],
      "execution_count": null,
      "outputs": [
        {
          "output_type": "stream",
          "name": "stdout",
          "text": [
            "Warning: 2995 lines did not match the regex pattern. First 10 unmatched lines:\n",
            "  1: 97.92.123.199 - rmillsj [03/Jul/2018 14:49:45:882515] \"GET /login?JSESSIONID=8E924EF1F4EF HTTP/1.1\" \"?JSESSIONID=8E924EF1F4EF\" 200 672 \"-\" \"Mozilla/5.0 (Macintosh; Intel Mac OS X 10_8_4) AppleWebKit/537.36 (KHTML; like Gecko) Chrome/29.0.1547.76 Safari/537.36\" 187 4137 308054\n",
            "  2: 106.158.196.201 - tcarroll12 [03/Jul/2018 14:49:45:882515] \"POST /orderstatus?JSESSIONID=E18E5EFFA1FF HTTP/1.1\" \"?JSESSIONID=E18E5EFFA1FF\" 200 375 \"-\" \"Mozilla/5.0 (Macintosh; Intel Mac OS X 10.7; rv:24.0) Gecko/20100101 Firefox/24.0\" 190 4074 262751\n",
            "  3: 106.158.196.201 - tcarroll12 [03/Jul/2018 14:49:45:882515] \"POST /cart?action=view&product_name=Water_Proof_Scratch_and_Sniff&JSESSIONID=E18E5EFFA1FF HTTP/1.1\" \"?action=view&product_name=Water_Proof_Scratch_and_Sniff&JSESSIONID=E18E5EFFA1FF\" 200 1152 \"https://www.buttercup.com/view?q=Water_Proof_Scratch_and_Sniff\" \"Mozilla/5.0 (Macintosh; Intel Mac OS X 10.7; rv:24.0) Gecko/20100101 Firefox/24.0\" 214 4514 245060\n",
            "  4: 178.34.181.104 - greyest [03/Jul/2018 14:49:45:882515] \"GET /login?JSESSIONID=954EEF0D75EF HTTP/1.1\" \"?JSESSIONID=954EEF0D75EF\" 200 469 \"-\" \"Mozilla/5.0 (Macintosh; Intel Mac OS X 10_7_5) AppleWebKit/537.36 (KHTML; like Gecko) Chrome/30.0.1599.69 Safari/537.36\" 204 5059 304595\n",
            "  5: 37.81.179.135 - sfieldsd [03/Jul/2018 14:49:45:882515] \"GET /login?JSESSIONID=F6EEDDA73FED HTTP/1.1\" \"?JSESSIONID=F6EEDDA73FED\" 200 257 \"-\" \"Mozilla/5.0 (Windows NT 6.1) AppleWebKit/537.36 (KHTML; like Gecko) Chrome/29.0.1547.76 Safari/537.36\" 226 5729 249809\n",
            "  6: 175.8.234.193 - wedwards11 [03/Jul/2018 14:49:45:882515] \"GET /search?q=Wrap&JSESSIONID=EEE08A335295 HTTP/1.1\" \"?q=Wrap&JSESSIONID=EEE08A335295\" 200 358 \"https://www.buttercup.com/\" \"Mozilla/5.0 (Windows NT 6.1) AppleWebKit/537.36 (KHTML; like Gecko) Chrome/30.0.1599.101 Safari/537.36\" 165 4615 319584\n",
            "  7: 224.236.136.96 - abishopz [03/Jul/2018 14:49:45:882515] \"POST /cart?action=view&product_name=Poo_Pouri&JSESSIONID=FF962E5FF4F9 HTTP/1.1\" \"?action=view&product_name=Poo_Pouri&JSESSIONID=FF962E5FF4F9\" 200 751 \"https://www.buttercup.com/view?q=Poo_Pouri\" \"Mozilla/5.0 (X11; Linux x86_64; rv:24.0) Gecko/20100101 Firefox/24.0\" 174 4185 250284\n",
            "  8: 75.57.233.65 - bmyers1d [03/Jul/2018 14:49:45:882515] \"POST /cart?action=view&product_name=Canned_Unicorn_Meat&JSESSIONID=5269F2F5DEDC HTTP/1.1\" \"?action=view&product_name=Canned_Unicorn_Meat&JSESSIONID=5269F2F5DEDC\" 200 418 \"https://www.buttercup.com/view?q=Canned_Unicorn_Meat\" \"Mozilla/5.0 (compatible; MSIE 9.0; Windows NT 6.0; Trident/5.0)\" 196 5415 332757\n",
            "  9: 252.136.1.140 - jhayes6 [03/Jul/2018 14:49:45:882515] \"POST /view?product_name=Poo_Pouri&JSESSIONID=F8EDD166D400 HTTP/1.1\" \"?product_name=Poo_Pouri&JSESSIONID=F8EDD166D400\" 200 1166 \"https://www.buttercup.com/search?q=Poo_Pouri\" \"Mozilla/5.0 (Windows NT 6.1; WOW64) AppleWebKit/537.36 (KHTML; like Gecko) Chrome/30.0.1599.101 Safari/537.36\" 195 5505 273602\n",
            "  10: 144.56.143.125 - akingk [03/Jul/2018 14:49:45:882515] \"GET /search?q=Batman&JSESSIONID=CFE54F6E6DF5 HTTP/1.1\" \"?q=Batman&JSESSIONID=CFE54F6E6DF5\" 200 1134 \"https://www.buttercup.com/\" \"Mozilla/5.0 (Macintosh; Intel Mac OS X 10_7_5) AppleWebKit/536.30.1 (KHTML; like Gecko) Version/6.0.5 Safari/536.30.1\" 235 4535 321617\n",
            "[CPU] parse->DataFrame: user=0.0100s system=0.0000s total=0.0100s\n",
            "CPU times: user 20.5 ms, sys: 825 µs, total: 21.3 ms\n",
            "Wall time: 25 ms\n"
          ]
        },
        {
          "output_type": "execute_result",
          "data": {
            "text/plain": [
              "              ip ident user                           ts method  \\\n",
              "0  23.112.19.169     -    -  24/Jul/2018 12:10:41:023222    GET   \n",
              "\n",
              "                                                 url     proto  status  size  \\\n",
              "0  /cart.do?uid=c1d03736-28f1-410d-a2bd-974eee973...  HTTP 1.1     200  3531   \n",
              "\n",
              "                                             referer  \\\n",
              "0  http://www.buttercupenterprises.com/cart.do?ui...   \n",
              "\n",
              "                                                  ua    dt  \n",
              "0  Mozilla/5.0 (iPhone; CPU iPhone OS 10_0_2 like...  None  "
            ],
            "text/html": [
              "\n",
              "  <div id=\"df-5bf0341e-5826-42a5-86aa-51864148ff98\" class=\"colab-df-container\">\n",
              "    <div>\n",
              "<style scoped>\n",
              "    .dataframe tbody tr th:only-of-type {\n",
              "        vertical-align: middle;\n",
              "    }\n",
              "\n",
              "    .dataframe tbody tr th {\n",
              "        vertical-align: top;\n",
              "    }\n",
              "\n",
              "    .dataframe thead th {\n",
              "        text-align: right;\n",
              "    }\n",
              "</style>\n",
              "<table border=\"1\" class=\"dataframe\">\n",
              "  <thead>\n",
              "    <tr style=\"text-align: right;\">\n",
              "      <th></th>\n",
              "      <th>ip</th>\n",
              "      <th>ident</th>\n",
              "      <th>user</th>\n",
              "      <th>ts</th>\n",
              "      <th>method</th>\n",
              "      <th>url</th>\n",
              "      <th>proto</th>\n",
              "      <th>status</th>\n",
              "      <th>size</th>\n",
              "      <th>referer</th>\n",
              "      <th>ua</th>\n",
              "      <th>dt</th>\n",
              "    </tr>\n",
              "  </thead>\n",
              "  <tbody>\n",
              "    <tr>\n",
              "      <th>0</th>\n",
              "      <td>23.112.19.169</td>\n",
              "      <td>-</td>\n",
              "      <td>-</td>\n",
              "      <td>24/Jul/2018 12:10:41:023222</td>\n",
              "      <td>GET</td>\n",
              "      <td>/cart.do?uid=c1d03736-28f1-410d-a2bd-974eee973...</td>\n",
              "      <td>HTTP 1.1</td>\n",
              "      <td>200</td>\n",
              "      <td>3531</td>\n",
              "      <td>http://www.buttercupenterprises.com/cart.do?ui...</td>\n",
              "      <td>Mozilla/5.0 (iPhone; CPU iPhone OS 10_0_2 like...</td>\n",
              "      <td>None</td>\n",
              "    </tr>\n",
              "  </tbody>\n",
              "</table>\n",
              "</div>\n",
              "    <div class=\"colab-df-buttons\">\n",
              "\n",
              "  <div class=\"colab-df-container\">\n",
              "    <button class=\"colab-df-convert\" onclick=\"convertToInteractive('df-5bf0341e-5826-42a5-86aa-51864148ff98')\"\n",
              "            title=\"Convert this dataframe to an interactive table.\"\n",
              "            style=\"display:none;\">\n",
              "\n",
              "  <svg xmlns=\"http://www.w3.org/2000/svg\" height=\"24px\" viewBox=\"0 -960 960 960\">\n",
              "    <path d=\"M120-120v-720h720v720H120Zm60-500h600v-160H180v160Zm220 220h160v-160H400v160Zm0 220h160v-160H400v160ZM180-400h160v-160H180v160Zm440 0h160v-160H620v160ZM180-180h160v-160H180v160Zm440 0h160v-160H620v160Z\"/>\n",
              "  </svg>\n",
              "    </button>\n",
              "\n",
              "  <style>\n",
              "    .colab-df-container {\n",
              "      display:flex;\n",
              "      gap: 12px;\n",
              "    }\n",
              "\n",
              "    .colab-df-convert {\n",
              "      background-color: #E8F0FE;\n",
              "      border: none;\n",
              "      border-radius: 50%;\n",
              "      cursor: pointer;\n",
              "      display: none;\n",
              "      fill: #1967D2;\n",
              "      height: 32px;\n",
              "      padding: 0 0 0 0;\n",
              "      width: 32px;\n",
              "    }\n",
              "\n",
              "    .colab-df-convert:hover {\n",
              "      background-color: #E2EBFA;\n",
              "      box-shadow: 0px 1px 2px rgba(60, 64, 67, 0.3), 0px 1px 3px 1px rgba(60, 64, 67, 0.15);\n",
              "      fill: #174EA6;\n",
              "    }\n",
              "\n",
              "    .colab-df-buttons div {\n",
              "      margin-bottom: 4px;\n",
              "    }\n",
              "\n",
              "    [theme=dark] .colab-df-convert {\n",
              "      background-color: #3B4455;\n",
              "      fill: #D2E3FC;\n",
              "    }\n",
              "\n",
              "    [theme=dark] .colab-df-convert:hover {\n",
              "      background-color: #434B5C;\n",
              "      box-shadow: 0px 1px 3px 1px rgba(0, 0, 0, 0.15);\n",
              "      filter: drop-shadow(0px 1px 2px rgba(0, 0, 0, 0.3));\n",
              "      fill: #FFFFFF;\n",
              "    }\n",
              "  </style>\n",
              "\n",
              "    <script>\n",
              "      const buttonEl =\n",
              "        document.querySelector('#df-5bf0341e-5826-42a5-86aa-51864148ff98 button.colab-df-convert');\n",
              "      buttonEl.style.display =\n",
              "        google.colab.kernel.accessAllowed ? 'block' : 'none';\n",
              "\n",
              "      async function convertToInteractive(key) {\n",
              "        const element = document.querySelector('#df-5bf0341e-5826-42a5-86aa-51864148ff98');\n",
              "        const dataTable =\n",
              "          await google.colab.kernel.invokeFunction('convertToInteractive',\n",
              "                                                    [key], {});\n",
              "        if (!dataTable) return;\n",
              "\n",
              "        const docLinkHtml = 'Like what you see? Visit the ' +\n",
              "          '<a target=\"_blank\" href=https://colab.research.google.com/notebooks/data_table.ipynb>data table notebook</a>'\n",
              "          + ' to learn more about interactive tables.';\n",
              "        element.innerHTML = '';\n",
              "        dataTable['output_type'] = 'display_data';\n",
              "        await google.colab.output.renderOutput(dataTable, element);\n",
              "        const docLink = document.createElement('div');\n",
              "        docLink.innerHTML = docLinkHtml;\n",
              "        element.appendChild(docLink);\n",
              "      }\n",
              "    </script>\n",
              "  </div>\n",
              "\n",
              "\n",
              "    </div>\n",
              "  </div>\n"
            ],
            "application/vnd.google.colaboratory.intrinsic+json": {
              "type": "dataframe",
              "repr_error": "Out of range float values are not JSON compliant: nan"
            }
          },
          "metadata": {},
          "execution_count": 11
        }
      ],
      "id": "jtFUNqNYV-OS"
    },
    {
      "cell_type": "code",
      "metadata": {
        "colab": {
          "base_uri": "https://localhost:8080/"
        },
        "id": "lZY0G48lV-OS",
        "outputId": "dea3d9d3-bea4-428b-b63c-ab9805cc786e"
      },
      "source": [
        "df.shape, df.dtypes"
      ],
      "execution_count": null,
      "outputs": [
        {
          "output_type": "execute_result",
          "data": {
            "text/plain": [
              "((0, 0), Series([], dtype: object))"
            ]
          },
          "metadata": {},
          "execution_count": 8
        }
      ],
      "id": "lZY0G48lV-OS"
    },
    {
      "cell_type": "markdown",
      "metadata": {
        "id": "hbLV7MhyV-OS"
      },
      "source": [
        "## 3) Classic Stats: Core Questions\n",
        "Fast, interpretable baselines that often suffice in operations."
      ],
      "id": "hbLV7MhyV-OS"
    },
    {
      "cell_type": "code",
      "metadata": {
        "colab": {
          "base_uri": "https://localhost:8080/",
          "height": 408
        },
        "id": "YH103GWgV-OS",
        "outputId": "d5524b55-a937-437f-bec7-88f96a2dcfe9"
      },
      "source": [
        "%%time\n",
        "import numpy as np\n",
        "with cpu_meter(\"groupby counts\"):\n",
        "    by_ip = df.groupby('ip').size().sort_values(ascending=False).rename('count')\n",
        "by_ip.head(10)"
      ],
      "execution_count": null,
      "outputs": [
        {
          "output_type": "stream",
          "name": "stdout",
          "text": [
            "[CPU] groupby counts: user=0.0000s system=0.0000s total=0.0000s\n"
          ]
        },
        {
          "output_type": "error",
          "ename": "KeyError",
          "evalue": "'ip'",
          "traceback": [
            "\u001b[0;31m---------------------------------------------------------------------------\u001b[0m",
            "\u001b[0;31mKeyError\u001b[0m                                  Traceback (most recent call last)",
            "\u001b[0;32m<timed exec>\u001b[0m in \u001b[0;36m<module>\u001b[0;34m\u001b[0m\n",
            "\u001b[0;32m/usr/local/lib/python3.12/dist-packages/pandas/core/frame.py\u001b[0m in \u001b[0;36mgroupby\u001b[0;34m(self, by, axis, level, as_index, sort, group_keys, observed, dropna)\u001b[0m\n\u001b[1;32m   9181\u001b[0m             \u001b[0;32mraise\u001b[0m \u001b[0mTypeError\u001b[0m\u001b[0;34m(\u001b[0m\u001b[0;34m\"You have to supply one of 'by' and 'level'\"\u001b[0m\u001b[0;34m)\u001b[0m\u001b[0;34m\u001b[0m\u001b[0;34m\u001b[0m\u001b[0m\n\u001b[1;32m   9182\u001b[0m \u001b[0;34m\u001b[0m\u001b[0m\n\u001b[0;32m-> 9183\u001b[0;31m         return DataFrameGroupBy(\n\u001b[0m\u001b[1;32m   9184\u001b[0m             \u001b[0mobj\u001b[0m\u001b[0;34m=\u001b[0m\u001b[0mself\u001b[0m\u001b[0;34m,\u001b[0m\u001b[0;34m\u001b[0m\u001b[0;34m\u001b[0m\u001b[0m\n\u001b[1;32m   9185\u001b[0m             \u001b[0mkeys\u001b[0m\u001b[0;34m=\u001b[0m\u001b[0mby\u001b[0m\u001b[0;34m,\u001b[0m\u001b[0;34m\u001b[0m\u001b[0;34m\u001b[0m\u001b[0m\n",
            "\u001b[0;32m/usr/local/lib/python3.12/dist-packages/pandas/core/groupby/groupby.py\u001b[0m in \u001b[0;36m__init__\u001b[0;34m(self, obj, keys, axis, level, grouper, exclusions, selection, as_index, sort, group_keys, observed, dropna)\u001b[0m\n\u001b[1;32m   1327\u001b[0m \u001b[0;34m\u001b[0m\u001b[0m\n\u001b[1;32m   1328\u001b[0m         \u001b[0;32mif\u001b[0m \u001b[0mgrouper\u001b[0m \u001b[0;32mis\u001b[0m \u001b[0;32mNone\u001b[0m\u001b[0;34m:\u001b[0m\u001b[0;34m\u001b[0m\u001b[0;34m\u001b[0m\u001b[0m\n\u001b[0;32m-> 1329\u001b[0;31m             grouper, exclusions, obj = get_grouper(\n\u001b[0m\u001b[1;32m   1330\u001b[0m                 \u001b[0mobj\u001b[0m\u001b[0;34m,\u001b[0m\u001b[0;34m\u001b[0m\u001b[0;34m\u001b[0m\u001b[0m\n\u001b[1;32m   1331\u001b[0m                 \u001b[0mkeys\u001b[0m\u001b[0;34m,\u001b[0m\u001b[0;34m\u001b[0m\u001b[0;34m\u001b[0m\u001b[0m\n",
            "\u001b[0;32m/usr/local/lib/python3.12/dist-packages/pandas/core/groupby/grouper.py\u001b[0m in \u001b[0;36mget_grouper\u001b[0;34m(obj, key, axis, level, sort, observed, validate, dropna)\u001b[0m\n\u001b[1;32m   1041\u001b[0m                 \u001b[0min_axis\u001b[0m\u001b[0;34m,\u001b[0m \u001b[0mlevel\u001b[0m\u001b[0;34m,\u001b[0m \u001b[0mgpr\u001b[0m \u001b[0;34m=\u001b[0m \u001b[0;32mFalse\u001b[0m\u001b[0;34m,\u001b[0m \u001b[0mgpr\u001b[0m\u001b[0;34m,\u001b[0m \u001b[0;32mNone\u001b[0m\u001b[0;34m\u001b[0m\u001b[0;34m\u001b[0m\u001b[0m\n\u001b[1;32m   1042\u001b[0m             \u001b[0;32melse\u001b[0m\u001b[0;34m:\u001b[0m\u001b[0;34m\u001b[0m\u001b[0;34m\u001b[0m\u001b[0m\n\u001b[0;32m-> 1043\u001b[0;31m                 \u001b[0;32mraise\u001b[0m \u001b[0mKeyError\u001b[0m\u001b[0;34m(\u001b[0m\u001b[0mgpr\u001b[0m\u001b[0;34m)\u001b[0m\u001b[0;34m\u001b[0m\u001b[0;34m\u001b[0m\u001b[0m\n\u001b[0m\u001b[1;32m   1044\u001b[0m         \u001b[0;32melif\u001b[0m \u001b[0misinstance\u001b[0m\u001b[0;34m(\u001b[0m\u001b[0mgpr\u001b[0m\u001b[0;34m,\u001b[0m \u001b[0mGrouper\u001b[0m\u001b[0;34m)\u001b[0m \u001b[0;32mand\u001b[0m \u001b[0mgpr\u001b[0m\u001b[0;34m.\u001b[0m\u001b[0mkey\u001b[0m \u001b[0;32mis\u001b[0m \u001b[0;32mnot\u001b[0m \u001b[0;32mNone\u001b[0m\u001b[0;34m:\u001b[0m\u001b[0;34m\u001b[0m\u001b[0;34m\u001b[0m\u001b[0m\n\u001b[1;32m   1045\u001b[0m             \u001b[0;31m# Add key to exclusions\u001b[0m\u001b[0;34m\u001b[0m\u001b[0;34m\u001b[0m\u001b[0m\n",
            "\u001b[0;31mKeyError\u001b[0m: 'ip'"
          ]
        }
      ],
      "id": "YH103GWgV-OS"
    },
    {
      "cell_type": "code",
      "metadata": {
        "id": "YQLPPkHdV-OS"
      },
      "source": [
        "%%time\n",
        "with cpu_meter(\"status dist\"):\n",
        "    status_dist = df['status'].value_counts().sort_index()\n",
        "status_dist"
      ],
      "execution_count": null,
      "outputs": [],
      "id": "YQLPPkHdV-OS"
    },
    {
      "cell_type": "code",
      "metadata": {
        "id": "ng9r6DypV-OT"
      },
      "source": [
        "%%time\n",
        "with cpu_meter(\"requests per minute + anomalies\"):\n",
        "    per_min = df.set_index('dt').resample('1min').size().rename('rpm').to_frame()\n",
        "    per_min['z'] = (per_min['rpm'] - per_min['rpm'].mean()) / (per_min['rpm'].std() + 1e-9)\n",
        "    mad = (per_min['rpm'] - per_min['rpm'].median()).abs().median() + 1e-9\n",
        "    per_min['mad_z'] = 0.6745*(per_min['rpm']-per_min['rpm'].median())/mad\n",
        "    anomalies = per_min[(per_min['z'].abs()>3) | (per_min['mad_z'].abs()>3)]\n",
        "anomalies.head()"
      ],
      "execution_count": null,
      "outputs": [],
      "id": "ng9r6DypV-OT"
    },
    {
      "cell_type": "code",
      "metadata": {
        "id": "uEeumOzlV-OT"
      },
      "source": [
        "%%time\n",
        "with cpu_meter(\"simple rules: 404 and login abuse\"):\n",
        "    by_ip_status = df.pivot_table(index='ip', columns='status', values='url', aggfunc='count', fill_value=0)\n",
        "    by_ip_status['total'] = by_ip_status.sum(1)\n",
        "    by_ip_status['rate_404'] = by_ip_status.get(404,0) / by_ip_status['total'].replace(0, np.nan)\n",
        "    brute_candidates = (by_ip_status.get(401,0) + by_ip_status.get(403,0)) > 50\n",
        "    scans_404 = (by_ip_status['rate_404'] > 0.5) & (by_ip_status['total']>30)\n",
        "    flagged_ips = by_ip_status[ brute_candidates | scans_404 ].sort_values('total', ascending=False)\n",
        "flagged_ips.head(10)"
      ],
      "execution_count": null,
      "outputs": [],
      "id": "uEeumOzlV-OT"
    },
    {
      "cell_type": "markdown",
      "metadata": {
        "id": "BFc1erlOV-OT"
      },
      "source": [
        "## 4) ML Approach (Isolation Forest)\n",
        "We'll aggregate features per IP and run an outlier detector. Measure fit + score time and compare flagged entities."
      ],
      "id": "BFc1erlOV-OT"
    },
    {
      "cell_type": "code",
      "metadata": {
        "id": "VvNjfer1V-OT"
      },
      "source": [
        "%%time\n",
        "with cpu_meter(\"feature engineering (per IP)\"):\n",
        "    feats = df.groupby('ip').agg(\n",
        "        total=('ip','size'),\n",
        "        uniq_urls=('url','nunique'),\n",
        "        mean_size=('size','mean'),\n",
        "        p404=(lambda x: (x==404).mean()),\n",
        "        p401=(lambda x: (x==401).mean()),\n",
        "        p403=(lambda x: (x==403).mean()),\n",
        "        p5xx=(lambda x: (x>=500).mean())\n",
        "    )\n",
        "    # fill NaNs and scale rudimentarily\n",
        "    X = feats.fillna(0)\n",
        "X.head()"
      ],
      "execution_count": null,
      "outputs": [],
      "id": "VvNjfer1V-OT"
    },
    {
      "cell_type": "code",
      "metadata": {
        "id": "rbMbT6SHV-OT"
      },
      "source": [
        "%%time\n",
        "from sklearn.ensemble import IsolationForest\n",
        "with cpu_meter(\"IsolationForest fit+score\"):\n",
        "    iso = IsolationForest(n_estimators=100, contamination=0.02, random_state=42, n_jobs=-1)\n",
        "    preds = iso.fit_predict(X)\n",
        "    scores = iso.decision_function(X)\n",
        "X.assign(pred=preds, score=scores).sort_values('score').head(10)"
      ],
      "execution_count": null,
      "outputs": [],
      "id": "rbMbT6SHV-OT"
    },
    {
      "cell_type": "markdown",
      "metadata": {
        "id": "ldjH6qUzV-OT"
      },
      "source": [
        "### Compare with Simple Rules\n",
        "Which IPs did each approach flag? Are they similar? How much compute did each take?"
      ],
      "id": "ldjH6qUzV-OT"
    },
    {
      "cell_type": "code",
      "metadata": {
        "id": "LqQG3OgxV-OT"
      },
      "source": [
        "%%time\n",
        "with cpu_meter(\"compare sets\"):\n",
        "    ml_flagged = set(X.assign(pred=preds).query(\"pred==-1\").index)\n",
        "    rules_flagged = set(flagged_ips.index)\n",
        "    overlap = ml_flagged & rules_flagged\n",
        "    only_ml = ml_flagged - rules_flagged\n",
        "    only_rules = rules_flagged - ml_flagged\n",
        "    print(\"Counts -> ML:\", len(ml_flagged), \"Rules:\", len(rules_flagged), \"Overlap:\", len(overlap))\n",
        "    print(\"Only ML (sample up to 10):\", list(sorted(only_ml))[:10])\n",
        "    print(\"Only Rules (sample up to 10):\", list(sorted(only_rules))[:10])"
      ],
      "execution_count": null,
      "outputs": [],
      "id": "LqQG3OgxV-OT"
    },
    {
      "cell_type": "markdown",
      "metadata": {
        "id": "zglMsQkjV-OT"
      },
      "source": [
        "## 5) Throughput Benchmarks (scaling sense)\n",
        "Estimate records/second for parsing & aggregation on your hardware."
      ],
      "id": "zglMsQkjV-OT"
    },
    {
      "cell_type": "code",
      "metadata": {
        "id": "0EodPryKV-OT"
      },
      "source": [
        "%%time\n",
        "with cpu_meter(\"parse throughput (re-parse)\"):\n",
        "    import itertools\n",
        "    # re-parse first 100k lines for a fair per-iteration measure\n",
        "    N = 100_000\n",
        "    gen = itertools.islice(parse_lines(LOG_PATH), N)\n",
        "    df100k = pd.DataFrame(gen)\n",
        "    rate = N / max(1e-9, (df100k['dt'].shape[0] > 0 and _ or 0))  # placeholder, not used\n",
        "df100k.shape"
      ],
      "execution_count": null,
      "outputs": [],
      "id": "0EodPryKV-OT"
    },
    {
      "cell_type": "code",
      "metadata": {
        "id": "eOJeuMZqV-OT"
      },
      "source": [
        "%%time\n",
        "with cpu_meter(\"groupby throughput\"):\n",
        "    _ = df.groupby('ip').size()\n",
        "print(\"IPs:\", _.shape[0])"
      ],
      "execution_count": null,
      "outputs": [],
      "id": "eOJeuMZqV-OT"
    },
    {
      "cell_type": "markdown",
      "metadata": {
        "id": "jt-NMpaRV-OT"
      },
      "source": [
        "## 6) Visual sanity checks (optional)\n",
        "Simple Matplotlib plots; feel free to skip for pure benchmarking."
      ],
      "id": "jt-NMpaRV-OT"
    },
    {
      "cell_type": "code",
      "metadata": {
        "id": "D3oGcBlqV-OT"
      },
      "source": [
        "%%time\n",
        "import matplotlib.pyplot as plt\n",
        "with cpu_meter(\"plot rpm\"):\n",
        "    per_min['rpm'].plot(title='Requests per minute'); plt.xlabel('time'); plt.ylabel('rpm'); plt.show()\n",
        "    anomalies['rpm'].plot(style='o', title='Anomalous minutes'); plt.show()"
      ],
      "execution_count": null,
      "outputs": [],
      "id": "D3oGcBlqV-OT"
    },
    {
      "cell_type": "markdown",
      "metadata": {
        "id": "m4rmWdksV-OT"
      },
      "source": [
        "## 7) Takeaways\n",
        "- **Speed & CPU**: Group-bys, counts, and simple thresholds are extremely fast and scalable.\n",
        "- **Transparency**: Stats-based rules are easy to explain and tune.\n",
        "- **ML overhead**: Feature engineering + model fitting add CPU cost; benefits appear mainly on complex, high-dimensional patterns or when labels/ground-truth are absent and rules are hard to craft.\n",
        "- **Balanced approach**: Start with stats; add ML only where it clearly wins."
      ],
      "id": "m4rmWdksV-OT"
    }
  ],
  "metadata": {
    "colab": {
      "provenance": [],
      "include_colab_link": true
    },
    "kernelspec": {
      "display_name": "Python 3",
      "language": "python",
      "name": "python3"
    },
    "language_info": {
      "name": "python",
      "version": "3.x"
    }
  },
  "nbformat": 4,
  "nbformat_minor": 5
}