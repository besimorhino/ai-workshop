{
  "nbformat": 4,
  "nbformat_minor": 0,
  "metadata": {
    "colab": {
      "provenance": [],
      "authorship_tag": "ABX9TyPT5/nkV8fkpzsGomdY7l/j",
      "include_colab_link": true
    },
    "kernelspec": {
      "name": "python3",
      "display_name": "Python 3"
    },
    "language_info": {
      "name": "python"
    }
  },
  "cells": [
    {
      "cell_type": "markdown",
      "metadata": {
        "id": "view-in-github",
        "colab_type": "text"
      },
      "source": [
        "<a href=\"https://colab.research.google.com/github/besimorhino/ai-workshop/blob/main/fill_mask.ipynb\" target=\"_parent\"><img src=\"https://colab.research.google.com/assets/colab-badge.svg\" alt=\"Open In Colab\"/></a>"
      ]
    },
    {
      "cell_type": "markdown",
      "source": [
        "# Step 0. Setup\n",
        "\n",
        "We need to install some python libraries to make our demo code work."
      ],
      "metadata": {
        "id": "XEz1iN8bdZ76"
      }
    },
    {
      "cell_type": "code",
      "execution_count": null,
      "metadata": {
        "id": "hyD0ePhxlk6r"
      },
      "outputs": [],
      "source": [
        "!pip install transformers[sentencepiece]\n",
        "!pip install sentencepiece"
      ]
    },
    {
      "cell_type": "markdown",
      "source": [
        "We now load our libraries we just installed."
      ],
      "metadata": {
        "id": "qBVhlEGAdcDo"
      }
    },
    {
      "cell_type": "code",
      "source": [
        "from transformers import pipeline"
      ],
      "metadata": {
        "id": "YIRBoqW3lsM7"
      },
      "execution_count": 2,
      "outputs": []
    },
    {
      "cell_type": "markdown",
      "source": [
        "# Step 1. Mask filling\n",
        "Frequently we do not have a complete data set. Generative AIs can help fill in missing text.\n",
        "\n",
        "Note: these examples are very small and could easily be handled by any person. However, if you are attempting to do this at any scale, this functionality is a gift."
      ],
      "metadata": {
        "id": "65FjnWU4dgvu"
      }
    },
    {
      "cell_type": "code",
      "source": [
        "unmasker = pipeline(\"fill-mask\")"
      ],
      "metadata": {
        "id": "9qk-p3QelvtS"
      },
      "execution_count": null,
      "outputs": []
    },
    {
      "cell_type": "code",
      "source": [
        "unmasker(\"This course will teach you all about <mask> OSINT techniques.\", top_k=2)"
      ],
      "metadata": {
        "id": "xjOjzl5gmPlf"
      },
      "execution_count": null,
      "outputs": []
    },
    {
      "cell_type": "markdown",
      "source": [
        "Here's a more \"real world\" example. Frequently we have to deal with partial data sets. (Some examples are: redacted text, poor OCR, or images where text is covered)"
      ],
      "metadata": {
        "id": "8D8O6SMbn7Dk"
      }
    },
    {
      "cell_type": "code",
      "source": [
        "blocktext = \"\"\"In the course of the investigation, detailed analysis of the available <mask>\n",
        "was conducted, which included a thorough examination of email exchanges, transaction records,\n",
        "and <mask> logs. The preliminary findings suggest a pattern of unauthorized access\n",
        "that coincides with the timestamps of the data breaches reported by <mask>.\"\"\""
      ],
      "metadata": {
        "id": "n64vHjqImzrN"
      },
      "execution_count": 6,
      "outputs": []
    },
    {
      "cell_type": "code",
      "source": [
        "unmasker(blocktext, top_k=2)"
      ],
      "metadata": {
        "id": "IAktqXHQnR18"
      },
      "execution_count": null,
      "outputs": []
    }
  ]
}